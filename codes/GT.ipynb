{
 "cells": [
  {
   "cell_type": "code",
   "execution_count": 16,
   "metadata": {},
   "outputs": [],
   "source": [
    "import numpy as np "
   ]
  },
  {
   "cell_type": "code",
   "execution_count": 17,
   "metadata": {},
   "outputs": [],
   "source": [
    "def intial_payoff(n,m):\n",
    "    A=np.random.randint(-5,7, size=(n, m))\n",
    "    B=np.random.randint(-5,7, size=(n, m))\n",
    "    return A,B"
   ]
  },
  {
   "cell_type": "code",
   "execution_count": 18,
   "metadata": {},
   "outputs": [],
   "source": [
    "A,B=intial_payoff(3,4)"
   ]
  },
  {
   "cell_type": "code",
   "execution_count": 19,
   "metadata": {},
   "outputs": [
    {
     "data": {
      "text/plain": [
       "array([[ 0,  1,  6,  1],\n",
       "       [-3,  6,  3, -5],\n",
       "       [ 1,  2,  0,  0]])"
      ]
     },
     "execution_count": 19,
     "metadata": {},
     "output_type": "execute_result"
    }
   ],
   "source": [
    "A"
   ]
  },
  {
   "cell_type": "code",
   "execution_count": 20,
   "metadata": {},
   "outputs": [
    {
     "data": {
      "text/plain": [
       "array([[ 1,  5,  1, -2],\n",
       "       [ 6,  3,  1, -4],\n",
       "       [ 2,  1, -4, -5]])"
      ]
     },
     "execution_count": 20,
     "metadata": {},
     "output_type": "execute_result"
    }
   ],
   "source": [
    "B"
   ]
  },
  {
   "cell_type": "markdown",
   "metadata": {},
   "source": [
    "# checking dominants strategies "
   ]
  },
  {
   "cell_type": "code",
   "execution_count": 21,
   "metadata": {},
   "outputs": [
    {
     "data": {
      "text/plain": [
       "array([False,  True,  True])"
      ]
     },
     "execution_count": 21,
     "metadata": {},
     "output_type": "execute_result"
    }
   ],
   "source": [
    "B[:,0]>=B[:,1]"
   ]
  },
  {
   "cell_type": "code",
   "execution_count": 22,
   "metadata": {},
   "outputs": [
    {
     "data": {
      "text/plain": [
       "array([ True, False,  True,  True])"
      ]
     },
     "execution_count": 22,
     "metadata": {},
     "output_type": "execute_result"
    }
   ],
   "source": [
    "A[0,:]>=A[1,:]"
   ]
  },
  {
   "cell_type": "code",
   "execution_count": 23,
   "metadata": {},
   "outputs": [
    {
     "data": {
      "text/plain": [
       "array([[ 1,  2,  0,  0],\n",
       "       [-3,  6,  3, -5],\n",
       "       [ 0,  1,  6,  1]])"
      ]
     },
     "execution_count": 23,
     "metadata": {},
     "output_type": "execute_result"
    }
   ],
   "source": [
    "A[::-1]"
   ]
  },
  {
   "cell_type": "code",
   "execution_count": null,
   "metadata": {},
   "outputs": [],
   "source": []
  },
  {
   "cell_type": "code",
   "execution_count": null,
   "metadata": {},
   "outputs": [],
   "source": []
  },
  {
   "cell_type": "code",
   "execution_count": null,
   "metadata": {},
   "outputs": [],
   "source": []
  },
  {
   "cell_type": "code",
   "execution_count": 24,
   "metadata": {},
   "outputs": [],
   "source": [
    "def Remove_All_domin(A,B):\n",
    "    treger=np.copy(A)\n",
    "    stop=0\n",
    "    dominants=[]\n",
    "    while True:\n",
    "\n",
    "        if treger.shape != A.shape:\n",
    "            treger=np.copy(A)\n",
    "        else:\n",
    "            stop+=1\n",
    "        if stop==2:\n",
    "            break\n",
    "        elif B.shape==(1,1):\n",
    "            break\n",
    "        \n",
    "        \n",
    "       \n",
    "        for i in range(len(A)):\n",
    "            for j in range(len(A)):\n",
    "                if i==j:\n",
    "                    continue\n",
    "                if (A[i]>A[j]).all():\n",
    "                    print(\"Strategy\",i)\n",
    "                    print(\"stricly dominant A\")\n",
    "                    print(\"Strategy\",j)\n",
    "                    print(\"####\")\n",
    "                    dominants.append(j)\n",
    "                elif (A[i]>A[j]).all():\n",
    "                    print(\"Strategy\",i)\n",
    "                    print(\"weakly dominant A\")\n",
    "                    print(\"Strategy\",j)\n",
    "                    print(\"####\")\n",
    "                    dominants.append(j)\n",
    "\n",
    "\n",
    "        A=np.delete(A,dominants,axis=0)\n",
    "        B=np.delete(B,dominants,axis=0)\n",
    "        dominants=[]\n",
    "        for i in range(len(B[0])):\n",
    "            for j in range(len(B[0])):\n",
    "                if i==j:\n",
    "                    continue\n",
    "                if (B[:,i]>B[:,j]).all():\n",
    "                    print(\"Strategy\",i)\n",
    "                    print(\"stricly dominant B\")\n",
    "                    print(\"Strategy\",j)\n",
    "                    print(\"####\")\n",
    "                    dominants.append(j)\n",
    "                elif (B[:,i]>=B[:,j]).all():\n",
    "                    print(\"Strategy\",i)\n",
    "                    print(\"weakly dominant B\")\n",
    "                    print(\"Strategy\",j)\n",
    "                    print(\"####\")\n",
    "                    dominants.append(j)\n",
    "\n",
    "        A=np.delete(A,dominants,axis=1)\n",
    "        B=np.delete(B,dominants,axis=1)\n",
    "\n",
    "        print(\"############### A:\")\n",
    "        print(A)\n",
    "        print(\"############### B:\")\n",
    "        print(B)\n",
    "    print(\"After Remove Dominants: P1:\",A)\n",
    "    print(\"After Remove Dominants: P2:\",B)\n",
    "    return A,B"
   ]
  },
  {
   "cell_type": "code",
   "execution_count": 25,
   "metadata": {},
   "outputs": [
    {
     "name": "stdout",
     "output_type": "stream",
     "text": [
      "Strategy 0\n",
      "weakly dominant B\n",
      "Strategy 2\n",
      "####\n",
      "Strategy 0\n",
      "stricly dominant B\n",
      "Strategy 3\n",
      "####\n",
      "Strategy 1\n",
      "stricly dominant B\n",
      "Strategy 2\n",
      "####\n",
      "Strategy 1\n",
      "stricly dominant B\n",
      "Strategy 3\n",
      "####\n",
      "Strategy 2\n",
      "stricly dominant B\n",
      "Strategy 3\n",
      "####\n",
      "############### A:\n",
      "[[ 0  1]\n",
      " [-3  6]\n",
      " [ 1  2]]\n",
      "############### B:\n",
      "[[1 5]\n",
      " [6 3]\n",
      " [2 1]]\n",
      "Strategy 2\n",
      "stricly dominant A\n",
      "Strategy 0\n",
      "####\n",
      "Strategy 0\n",
      "stricly dominant B\n",
      "Strategy 1\n",
      "####\n",
      "############### A:\n",
      "[[-3]]\n",
      "############### B:\n",
      "[[6]]\n",
      "After Remove Dominants: P1: [[-3]]\n",
      "After Remove Dominants: P2: [[6]]\n"
     ]
    },
    {
     "name": "stderr",
     "output_type": "stream",
     "text": [
      "/home/mohamed/anaconda3/lib/python3.7/site-packages/ipykernel_launcher.py:36: DeprecationWarning: in the future out of bounds indices will raise an error instead of being ignored by `numpy.delete`.\n",
      "/home/mohamed/anaconda3/lib/python3.7/site-packages/ipykernel_launcher.py:37: DeprecationWarning: in the future out of bounds indices will raise an error instead of being ignored by `numpy.delete`.\n"
     ]
    },
    {
     "data": {
      "text/plain": [
       "(array([[-3]]), array([[6]]))"
      ]
     },
     "execution_count": 25,
     "metadata": {},
     "output_type": "execute_result"
    }
   ],
   "source": [
    "Remove_All_domin(A,B)"
   ]
  },
  {
   "cell_type": "code",
   "execution_count": 26,
   "metadata": {},
   "outputs": [
    {
     "data": {
      "text/plain": [
       "array([[ 0,  1,  6,  1],\n",
       "       [-3,  6,  3, -5],\n",
       "       [ 1,  2,  0,  0]])"
      ]
     },
     "execution_count": 26,
     "metadata": {},
     "output_type": "execute_result"
    }
   ],
   "source": [
    "A"
   ]
  },
  {
   "cell_type": "code",
   "execution_count": 27,
   "metadata": {},
   "outputs": [
    {
     "data": {
      "text/plain": [
       "array([[ 1,  5,  1, -2],\n",
       "       [ 6,  3,  1, -4],\n",
       "       [ 2,  1, -4, -5]])"
      ]
     },
     "execution_count": 27,
     "metadata": {},
     "output_type": "execute_result"
    }
   ],
   "source": [
    "B"
   ]
  },
  {
   "cell_type": "code",
   "execution_count": 28,
   "metadata": {},
   "outputs": [],
   "source": [
    "def find_nash(A,B):\n",
    "    nashs=[]\n",
    "    for i in range(len(A)):\n",
    "        for j in range(len(A[0])):\n",
    "            if (A[i][j]==np.max(A[:,j]))and(B[i][j]==np.max(B[i,:])):\n",
    "                nashs.append((i,j))\n",
    "            \n",
    "    return nashs\n",
    "    \n",
    "    "
   ]
  },
  {
   "cell_type": "code",
   "execution_count": 14,
   "metadata": {},
   "outputs": [
    {
     "data": {
      "text/plain": [
       "4"
      ]
     },
     "execution_count": 14,
     "metadata": {},
     "output_type": "execute_result"
    }
   ],
   "source": [
    "np.argmax(B)"
   ]
  },
  {
   "cell_type": "code",
   "execution_count": 102,
   "metadata": {},
   "outputs": [
    {
     "data": {
      "text/plain": [
       "6"
      ]
     },
     "execution_count": 102,
     "metadata": {},
     "output_type": "execute_result"
    }
   ],
   "source": [
    "np.max(A[0])"
   ]
  },
  {
   "cell_type": "code",
   "execution_count": 29,
   "metadata": {},
   "outputs": [
    {
     "data": {
      "text/plain": [
       "[(2, 0)]"
      ]
     },
     "execution_count": 29,
     "metadata": {},
     "output_type": "execute_result"
    }
   ],
   "source": [
    "find_nash(A,B)"
   ]
  },
  {
   "cell_type": "code",
   "execution_count": 104,
   "metadata": {},
   "outputs": [],
   "source": [
    "def calc_expected(A,B,x,y):\n",
    "    U1=np.dot(x,np.dot(A,y))\n",
    "    U2=np.dot(x,np.dot(B,y))\n",
    "    \n",
    "    return U1,U2"
   ]
  },
  {
   "cell_type": "code",
   "execution_count": 105,
   "metadata": {},
   "outputs": [
    {
     "data": {
      "text/plain": [
       "array([[-4, -1, -2,  6],\n",
       "       [ 1, -3, -3,  0],\n",
       "       [-4, -2, -1,  4]])"
      ]
     },
     "execution_count": 105,
     "metadata": {},
     "output_type": "execute_result"
    }
   ],
   "source": [
    "A"
   ]
  },
  {
   "cell_type": "code",
   "execution_count": 106,
   "metadata": {},
   "outputs": [
    {
     "data": {
      "text/plain": [
       "array([[-1,  5, -5,  1],\n",
       "       [-5,  0,  1, -3],\n",
       "       [ 6, -1,  6, -4]])"
      ]
     },
     "execution_count": 106,
     "metadata": {},
     "output_type": "execute_result"
    }
   ],
   "source": [
    "B"
   ]
  },
  {
   "cell_type": "code",
   "execution_count": 107,
   "metadata": {},
   "outputs": [],
   "source": [
    "x=[0.2,0.3,0.5]\n",
    "y=[0,0.25,0.5,0.25]"
   ]
  },
  {
   "cell_type": "code",
   "execution_count": 108,
   "metadata": {},
   "outputs": [
    {
     "data": {
      "text/plain": [
       "(-0.6249999999999999, 0.6)"
      ]
     },
     "execution_count": 108,
     "metadata": {},
     "output_type": "execute_result"
    }
   ],
   "source": [
    "calc_expected(A,B,x,y)"
   ]
  },
  {
   "cell_type": "code",
   "execution_count": 30,
   "metadata": {},
   "outputs": [],
   "source": [
    "def find_trembling_hand(A,B):#is the point that eny player deviate from it must one of them lose and it's nash\n",
    "    trem=[]\n",
    "    \n",
    "    "
   ]
  },
  {
   "cell_type": "code",
   "execution_count": null,
   "metadata": {},
   "outputs": [],
   "source": []
  },
  {
   "cell_type": "code",
   "execution_count": 31,
   "metadata": {},
   "outputs": [],
   "source": [
    "def positive_afine_transform(A,B):\n",
    "    a=np.random.randint(0,max(A)+1)\n",
    "    b=np.random.randint(0,max(A)+1)\n",
    "    A=A*a+b\n",
    "    a=np.random.randint(0,max(A)+1)\n",
    "    b=np.random.randint(0,max(A)+1)\n",
    "    B=B*a+b\n",
    "    return A,B"
   ]
  },
  {
   "cell_type": "code",
   "execution_count": null,
   "metadata": {},
   "outputs": [],
   "source": []
  },
  {
   "cell_type": "code",
   "execution_count": 34,
   "metadata": {},
   "outputs": [],
   "source": [
    "def find_category(A):\n",
    "    if A.shape==(2,2):\n",
    "        A[:,0]-=A[1,0]\n",
    "        A[:,1]-=A[1,1]\n",
    "        if (A[0,0]>0) and (A[1,1]>0):\n",
    "            print(\"category:II\")\n",
    "        elif (A[0,0]>0) and (A[1,1]<0):\n",
    "            print(\"category:IV\")\n",
    "        elif (A[0,0]<0) and (A[1,1]>0):\n",
    "            print(\"category:I\")\n",
    "        elif (A[0,0]<0) and (A[1,1]<0):\n",
    "            print(\"category:III\")\n",
    "    else:\n",
    "        print(\"please enter 2X2 payoff matrix.\")"
   ]
  },
  {
   "cell_type": "code",
   "execution_count": 32,
   "metadata": {},
   "outputs": [],
   "source": []
  },
  {
   "cell_type": "code",
   "execution_count": 33,
   "metadata": {},
   "outputs": [
    {
     "data": {
      "text/plain": [
       "array([[ 3,  1,  6,  1],\n",
       "       [ 0,  6,  3, -5],\n",
       "       [ 4,  2,  0,  0]])"
      ]
     },
     "execution_count": 33,
     "metadata": {},
     "output_type": "execute_result"
    }
   ],
   "source": [
    "A"
   ]
  },
  {
   "cell_type": "code",
   "execution_count": null,
   "metadata": {},
   "outputs": [],
   "source": []
  }
 ],
 "metadata": {
  "kernelspec": {
   "display_name": "Python 3",
   "language": "python",
   "name": "python3"
  },
  "language_info": {
   "codemirror_mode": {
    "name": "ipython",
    "version": 3
   },
   "file_extension": ".py",
   "mimetype": "text/x-python",
   "name": "python",
   "nbconvert_exporter": "python",
   "pygments_lexer": "ipython3",
   "version": "3.7.3"
  }
 },
 "nbformat": 4,
 "nbformat_minor": 2
}
