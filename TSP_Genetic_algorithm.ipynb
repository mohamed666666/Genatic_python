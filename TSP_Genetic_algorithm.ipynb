{
 "cells": [
  {
   "cell_type": "code",
   "execution_count": 1,
   "metadata": {},
   "outputs": [],
   "source": [
    "import numpy as np\n"
   ]
  },
  {
   "cell_type": "markdown",
   "metadata": {},
   "source": [
    "# intialize population that is a number of random intial solutions "
   ]
  },
  {
   "cell_type": "code",
   "execution_count": 118,
   "metadata": {},
   "outputs": [],
   "source": [
    "def pop_intializer(n_cities,n_sols):\n",
    "    arr=np.arange(1,n_cities+1)\n",
    "    pop=np.zeros((n_sols,n_cities))\n",
    "    for i in range(n_sols):\n",
    "        np.random.shuffle(arr)\n",
    "        pop[i]=arr\n",
    "    return pop.astype(int)\n",
    "    "
   ]
  },
  {
   "cell_type": "markdown",
   "metadata": {},
   "source": [
    "# intialize distances between cities random too because i cant write them one by one make sense "
   ]
  },
  {
   "cell_type": "code",
   "execution_count": 119,
   "metadata": {},
   "outputs": [],
   "source": [
    "def dists_between_Cs(n_cities):# random intialzation for distances between evry two cities \n",
    "    dist=dict()\n",
    "    defullt_arr=np.arange(1,n_cities+1)\n",
    "    for i in range(1,len(defullt_arr)):\n",
    "        for j in range(i,len(defullt_arr)+1):\n",
    "            if i==j:\n",
    "                continue\n",
    "            else:\n",
    "                dist[str(i)+\"->\"+str(j)]=np.random.randint(n_cities*n_cities*2)  \n",
    "    return dist\n",
    "    "
   ]
  },
  {
   "cell_type": "code",
   "execution_count": 120,
   "metadata": {},
   "outputs": [],
   "source": [
    "pop ,dits=pop_intializer(5,5),dists_between_Cs(5)"
   ]
  },
  {
   "cell_type": "markdown",
   "metadata": {},
   "source": [
    "# loop over distances that we intialized randomly to calculate the distance of solution that we wanna minimize it"
   ]
  },
  {
   "cell_type": "code",
   "execution_count": 136,
   "metadata": {},
   "outputs": [],
   "source": [
    "def C_fit(crmsms,dist):\n",
    "    fit_sum=0\n",
    "    crmsms=crmsms.astype(int)\n",
    "    for i in range(len(crmsms)-1):\n",
    "        if (str(crmsms[i])+\"->\"+str(crmsms[i+1])) in dist:\n",
    "            fit_sum+=dist[str(crmsms[i])+\"->\"+str(crmsms[i+1])]\n",
    "        else:\n",
    "            fit_sum+=dist[str(crmsms[i+1])+\"->\"+str(crmsms[i])]\n",
    "    return fit_sum\n",
    "    \n",
    "    "
   ]
  },
  {
   "cell_type": "code",
   "execution_count": 137,
   "metadata": {},
   "outputs": [
    {
     "data": {
      "text/plain": [
       "False"
      ]
     },
     "execution_count": 137,
     "metadata": {},
     "output_type": "execute_result"
    }
   ],
   "source": [
    "\"1->0\" in dits"
   ]
  },
  {
   "cell_type": "code",
   "execution_count": 6,
   "metadata": {},
   "outputs": [
    {
     "data": {
      "text/plain": [
       "array([1, 3, 4, 5, 2])"
      ]
     },
     "execution_count": 6,
     "metadata": {},
     "output_type": "execute_result"
    }
   ],
   "source": [
    "pop[3]"
   ]
  },
  {
   "cell_type": "code",
   "execution_count": 122,
   "metadata": {},
   "outputs": [
    {
     "data": {
      "text/plain": [
       "{'1->2': 6,\n",
       " '1->3': 9,\n",
       " '1->4': 0,\n",
       " '1->5': 19,\n",
       " '2->3': 4,\n",
       " '2->4': 7,\n",
       " '2->5': 30,\n",
       " '3->4': 17,\n",
       " '3->5': 28,\n",
       " '4->5': 39}"
      ]
     },
     "execution_count": 122,
     "metadata": {},
     "output_type": "execute_result"
    }
   ],
   "source": [
    "dits"
   ]
  },
  {
   "cell_type": "code",
   "execution_count": 8,
   "metadata": {},
   "outputs": [
    {
     "data": {
      "text/plain": [
       "86"
      ]
     },
     "execution_count": 8,
     "metadata": {},
     "output_type": "execute_result"
    }
   ],
   "source": [
    "C_fit(pop[3],dits)"
   ]
  },
  {
   "cell_type": "code",
   "execution_count": 11,
   "metadata": {},
   "outputs": [
    {
     "data": {
      "text/plain": [
       "4"
      ]
     },
     "execution_count": 11,
     "metadata": {},
     "output_type": "execute_result"
    }
   ],
   "source": [
    "np.argmin(pop[0])"
   ]
  },
  {
   "cell_type": "markdown",
   "metadata": {},
   "source": [
    "# loop over all pop to calculate every cromosom fitness"
   ]
  },
  {
   "cell_type": "code",
   "execution_count": 12,
   "metadata": {},
   "outputs": [],
   "source": [
    "def pop_fits(pop,dists):\n",
    "    fits=np.zeros((pop.shape[0],1))\n",
    "    for i in range(pop.shape[0]):\n",
    "        fits[i]=C_fit(pop[i],dists)\n",
    "    return fits\n",
    "        "
   ]
  },
  {
   "cell_type": "code",
   "execution_count": 13,
   "metadata": {},
   "outputs": [],
   "source": [
    "fitness=pop_fits(pop,dits)"
   ]
  },
  {
   "cell_type": "code",
   "execution_count": 14,
   "metadata": {},
   "outputs": [
    {
     "data": {
      "text/plain": [
       "array([[ 64.],\n",
       "       [138.],\n",
       "       [ 92.],\n",
       "       [ 86.],\n",
       "       [ 69.]])"
      ]
     },
     "execution_count": 14,
     "metadata": {},
     "output_type": "execute_result"
    }
   ],
   "source": [
    "fitness\n"
   ]
  },
  {
   "cell_type": "code",
   "execution_count": 15,
   "metadata": {},
   "outputs": [
    {
     "data": {
      "text/plain": [
       "array([4, 5, 2, 3, 1])"
      ]
     },
     "execution_count": 15,
     "metadata": {},
     "output_type": "execute_result"
    }
   ],
   "source": [
    "pop[0]"
   ]
  },
  {
   "cell_type": "code",
   "execution_count": 16,
   "metadata": {},
   "outputs": [
    {
     "data": {
      "text/plain": [
       "{'1->2': 47,\n",
       " '1->3': 2,\n",
       " '1->4': 27,\n",
       " '1->5': 2,\n",
       " '2->3': 22,\n",
       " '2->4': 29,\n",
       " '2->5': 24,\n",
       " '3->4': 44,\n",
       " '3->5': 43,\n",
       " '4->5': 16}"
      ]
     },
     "execution_count": 16,
     "metadata": {},
     "output_type": "execute_result"
    }
   ],
   "source": [
    "dits"
   ]
  },
  {
   "cell_type": "markdown",
   "metadata": {},
   "source": [
    "# tourment selection to detrmine the parents\n"
   ]
  },
  {
   "cell_type": "code",
   "execution_count": 17,
   "metadata": {},
   "outputs": [],
   "source": [
    "def tourment_selectian(pop,tour_size,fitness_values):\n",
    "    tow_parents=np.zeros((2,pop.shape[1]))\n",
    "    for i in range(2):\n",
    "        slicer=np.random.randint(0,pop.shape[0]-tour_size)\n",
    "        tour=pop[slicer:slicer+tour_size]\n",
    "        fit=fitness_values[slicer:slicer+tour_size]\n",
    "        minindex_in_pop=np.argmin(fit)\n",
    "        tow_parents[i]=tour[minindex_in_pop]\n",
    "    return tow_parents"
   ]
  },
  {
   "cell_type": "code",
   "execution_count": 18,
   "metadata": {},
   "outputs": [
    {
     "data": {
      "text/plain": [
       "array([1, 2, 3, 4])"
      ]
     },
     "execution_count": 18,
     "metadata": {},
     "output_type": "execute_result"
    }
   ],
   "source": [
    "np.arange(1,5)"
   ]
  },
  {
   "cell_type": "markdown",
   "metadata": {},
   "source": [
    "# order one selection "
   ]
  },
  {
   "cell_type": "code",
   "execution_count": 139,
   "metadata": {},
   "outputs": [],
   "source": [
    "def order_oneX(parents,WindowSize):\n",
    "    cutP=np.random.randint(0,len(parents[1])-WindowSize)# minimum slice will be of two allels \n",
    "    children=np.zeros((1,len(parents[1])))\n",
    "    children[0][cutP:cutP+WindowSize]=parents[0][cutP:cutP+WindowSize]\n",
    "    \n",
    "    start_of_x=cutP+WindowSize\n",
    "    counter=start_of_x\n",
    "    while True:\n",
    "        if counter>=len(parents[1]):\n",
    "            counter=0\n",
    "        if start_of_x>=len(children[0]):\n",
    "            start_of_x=0\n",
    "        \n",
    "        if (parents[1][counter] in children[0])==False:\n",
    "            children[0][start_of_x]=parents[1][counter]\n",
    "            counter+=1\n",
    "            start_of_x+=1\n",
    "        if (0 in children[0])==False:\n",
    "            break \n",
    "        counter+=1\n",
    "              \n",
    "    return children.astype(int)\n",
    "            \n",
    "    \n",
    "    "
   ]
  },
  {
   "cell_type": "code",
   "execution_count": 141,
   "metadata": {},
   "outputs": [
    {
     "data": {
      "text/plain": [
       "array([[5, 3, 1, 4, 2]])"
      ]
     },
     "execution_count": 141,
     "metadata": {},
     "output_type": "execute_result"
    }
   ],
   "source": [
    "ch=order_oneX(pop[1:3],2)\n",
    "ch"
   ]
  },
  {
   "cell_type": "code",
   "execution_count": null,
   "metadata": {},
   "outputs": [],
   "source": []
  },
  {
   "cell_type": "code",
   "execution_count": 96,
   "metadata": {},
   "outputs": [],
   "source": [
    "def swap_mut(ch):\n",
    "    r1=np.random.randint(0,len(ch[0]))\n",
    "    r2=np.random.randint(0,len(ch[0]))\n",
    "    while r1==r2:\n",
    "        r2=np.random.randint(0,len(ch[0]))\n",
    "    ch[0][r1],ch[0][r2]=ch[0][r2],ch[0][r1]\n",
    "    return ch\n",
    "    "
   ]
  },
  {
   "cell_type": "code",
   "execution_count": null,
   "metadata": {},
   "outputs": [],
   "source": []
  },
  {
   "cell_type": "code",
   "execution_count": 98,
   "metadata": {},
   "outputs": [
    {
     "data": {
      "text/plain": [
       "array([[2, 5, 3, 1, 4]])"
      ]
     },
     "execution_count": 98,
     "metadata": {},
     "output_type": "execute_result"
    }
   ],
   "source": [
    "ch"
   ]
  },
  {
   "cell_type": "code",
   "execution_count": 100,
   "metadata": {},
   "outputs": [
    {
     "data": {
      "text/plain": [
       "array([[2, 4, 1, 3, 5]])"
      ]
     },
     "execution_count": 100,
     "metadata": {},
     "output_type": "execute_result"
    }
   ],
   "source": [
    "swap_mut(ch)"
   ]
  },
  {
   "cell_type": "code",
   "execution_count": 142,
   "metadata": {},
   "outputs": [],
   "source": [
    "def TSP_GA(N_cities,N_in_sols,N_gen,tour_size):\n",
    "    pop,dists=pop_intializer(N_cities,N_in_sols),dists_between_Cs(N_cities)\n",
    "    ofsprings=np.zeros(pop.shape)\n",
    "    best_sols=[]\n",
    "    final_fits=[]\n",
    "    for i in range(N_gen):\n",
    "        fitness_values=pop_fits(pop,dists)\n",
    "        counter=0\n",
    "        while counter<len(ofsprings):\n",
    "            parents=tourment_selectian(pop,tour_size,fitness_values)\n",
    "            WindowSize=np.random.randint(2,int(N_cities/2))\n",
    "            ch=order_oneX(parents,WindowSize)\n",
    "            ofsprings[counter]=swap_mut(ch)\n",
    "            counter+=1\n",
    "        fit_ofspring=pop_fits(ofsprings,dists)#calculate fits of new generation that we generate from above while\n",
    "        best_sols.append(ofsprings[np.argmin(fit_ofspring)])#get minimum distance of the all routs we generate\n",
    "        final_fits.append(np.min(fit_ofspring))\n",
    "        pop=ofsprings# set of springs as new population \n",
    "        #loop to last generation \n",
    "    return best_sols,\n",
    "        \n",
    "        \n",
    "    "
   ]
  },
  {
   "cell_type": "code",
   "execution_count": 114,
   "metadata": {},
   "outputs": [
    {
     "data": {
      "text/plain": [
       "4"
      ]
     },
     "execution_count": 114,
     "metadata": {},
     "output_type": "execute_result"
    }
   ],
   "source": [
    "np.random.randint(2,5)"
   ]
  },
  {
   "cell_type": "code",
   "execution_count": 115,
   "metadata": {},
   "outputs": [
    {
     "data": {
      "text/plain": [
       "array([0, 1, 2, 3, 4])"
      ]
     },
     "execution_count": 115,
     "metadata": {},
     "output_type": "execute_result"
    }
   ],
   "source": [
    "np.arange(5)"
   ]
  },
  {
   "cell_type": "code",
   "execution_count": 116,
   "metadata": {},
   "outputs": [
    {
     "data": {
      "text/plain": [
       "0"
      ]
     },
     "execution_count": 116,
     "metadata": {},
     "output_type": "execute_result"
    }
   ],
   "source": [
    "np.argmin(np.arange(5))"
   ]
  },
  {
   "cell_type": "code",
   "execution_count": 144,
   "metadata": {},
   "outputs": [
    {
     "data": {
      "text/plain": [
       "[array([ 8.,  1.,  5.,  4.,  2.,  9.,  7., 10.,  3.,  6.]),\n",
       " array([ 4.,  6.,  8.,  1.,  9.,  5.,  7., 10.,  3.,  2.]),\n",
       " array([ 2.,  5.,  4.,  7.,  1., 10.,  6.,  8.,  3.,  9.]),\n",
       " array([ 3.,  4.,  6.,  1.,  2., 10.,  9.,  5.,  7.,  8.])]"
      ]
     },
     "execution_count": 144,
     "metadata": {},
     "output_type": "execute_result"
    }
   ],
   "source": [
    "TSP_GA(10,10,4,3)"
   ]
  },
  {
   "cell_type": "code",
   "execution_count": null,
   "metadata": {},
   "outputs": [],
   "source": []
  }
 ],
 "metadata": {
  "kernelspec": {
   "display_name": "Python 3",
   "language": "python",
   "name": "python3"
  },
  "language_info": {
   "codemirror_mode": {
    "name": "ipython",
    "version": 3
   },
   "file_extension": ".py",
   "mimetype": "text/x-python",
   "name": "python",
   "nbconvert_exporter": "python",
   "pygments_lexer": "ipython3",
   "version": "3.7.3"
  }
 },
 "nbformat": 4,
 "nbformat_minor": 2
}
