{
 "cells": [
  {
   "cell_type": "code",
   "execution_count": 13,
   "metadata": {},
   "outputs": [],
   "source": [
    "import numpy as np\n",
    "import random\n"
   ]
  },
  {
   "cell_type": "code",
   "execution_count": 14,
   "metadata": {},
   "outputs": [],
   "source": [
    "def intialize_dist(cities):\n",
    "    dist=dict()\n",
    "    for i in range(1,len(cities)):\n",
    "        for j in range(i,len(cities)+1):\n",
    "            if i==j:\n",
    "                continue\n",
    "            else:\n",
    "                dist[str(i)+\"->\"+str(j)]=np.random.randint(len(cities)**2)  \n",
    "    return dist\n",
    "    "
   ]
  },
  {
   "cell_type": "code",
   "execution_count": 15,
   "metadata": {},
   "outputs": [],
   "source": [
    "\n",
    "cities=np.arange(1,5+1)\n",
    "dist=intialize_dist(cities)"
   ]
  },
  {
   "cell_type": "code",
   "execution_count": 16,
   "metadata": {},
   "outputs": [
    {
     "data": {
      "text/plain": [
       "{'1->2': 9,\n",
       " '1->3': 7,\n",
       " '1->4': 6,\n",
       " '1->5': 24,\n",
       " '2->3': 0,\n",
       " '2->4': 10,\n",
       " '2->5': 5,\n",
       " '3->4': 17,\n",
       " '3->5': 24,\n",
       " '4->5': 9}"
      ]
     },
     "execution_count": 16,
     "metadata": {},
     "output_type": "execute_result"
    }
   ],
   "source": [
    "dist"
   ]
  },
  {
   "cell_type": "code",
   "execution_count": 145,
   "metadata": {},
   "outputs": [],
   "source": [
    "def Lk(rout,dist):\n",
    "    length=0\n",
    "    rout=np.array(rout).astype(int)\n",
    "    for i in range(len(rout)-1):\n",
    "        if (str(rout[i])+\"->\"+str(rout[i+1])) in dist:\n",
    "            length+=dist[str(rout[i])+\"->\"+str(rout[i+1])]\n",
    "        else:\n",
    "            length+=dist[str(rout[i+1])+\"->\"+str(rout[i])]\n",
    "    return length\n",
    "    "
   ]
  },
  {
   "cell_type": "code",
   "execution_count": 146,
   "metadata": {},
   "outputs": [],
   "source": [
    "def intialize_phermones(n_cities):\n",
    "    phermones=dict()\n",
    "    defullt_arr=np.arange(1,n_cities+1)\n",
    "    for i in range(1,len(defullt_arr)):\n",
    "        for j in range(i,len(defullt_arr)+1):\n",
    "            if i==j:\n",
    "                continue\n",
    "            else:\n",
    "                phermones[str(i)+\"->\"+str(j)]=0\n",
    "    return phermones"
   ]
  },
  {
   "cell_type": "code",
   "execution_count": 147,
   "metadata": {},
   "outputs": [
    {
     "data": {
      "text/plain": [
       "{'1->2': 0,\n",
       " '1->3': 0,\n",
       " '1->4': 0,\n",
       " '1->5': 0,\n",
       " '1->6': 0,\n",
       " '1->7': 0,\n",
       " '2->3': 0,\n",
       " '2->4': 0,\n",
       " '2->5': 0,\n",
       " '2->6': 0,\n",
       " '2->7': 0,\n",
       " '3->4': 0,\n",
       " '3->5': 0,\n",
       " '3->6': 0,\n",
       " '3->7': 0,\n",
       " '4->5': 0,\n",
       " '4->6': 0,\n",
       " '4->7': 0,\n",
       " '5->6': 0,\n",
       " '5->7': 0,\n",
       " '6->7': 0}"
      ]
     },
     "execution_count": 147,
     "metadata": {},
     "output_type": "execute_result"
    }
   ],
   "source": [
    "intialize_phermones(7)"
   ]
  },
  {
   "cell_type": "code",
   "execution_count": 148,
   "metadata": {},
   "outputs": [],
   "source": [
    "def edge_len(cur_nod,next_nodes,dist):\n",
    "    length=[]\n",
    "    for i in next_nodes:\n",
    "        if (str(cur_nod)+\"->\"+str(i)) in dist:\n",
    "            length.append(dist[str(cur_nod)+\"->\"+str(i)])\n",
    "        else:\n",
    "            length.append(dist[str(i)+\"->\"+str(cur_nod)])\n",
    "    return np.array(length)\n",
    "        \n",
    "    \n",
    "    "
   ]
  },
  {
   "cell_type": "code",
   "execution_count": null,
   "metadata": {},
   "outputs": [],
   "source": []
  },
  {
   "cell_type": "code",
   "execution_count": 149,
   "metadata": {},
   "outputs": [],
   "source": [
    "def prop_calc(cur_nod,next_nodes,L,dist):\n",
    "    tau=1/L\n",
    "    edges_length=edge_len(cur_nod,next_nodes,dist)\n",
    "    eta=1/edges_length\n",
    "    props=[]\n",
    "    for i in range(len(next_nodes)):\n",
    "        prop=(tau*eta[i])/(np.sum(tau*eta))\n",
    "        props.append(prop)\n",
    "    return props\n",
    "    \n",
    "    "
   ]
  },
  {
   "cell_type": "code",
   "execution_count": 150,
   "metadata": {},
   "outputs": [
    {
     "data": {
      "text/plain": [
       "1.0"
      ]
     },
     "execution_count": 150,
     "metadata": {},
     "output_type": "execute_result"
    }
   ],
   "source": [
    "np.sum(prop_calc(2,np.array([1,5,4]),145,dist))"
   ]
  },
  {
   "cell_type": "code",
   "execution_count": 151,
   "metadata": {},
   "outputs": [],
   "source": [
    "def put_phermons(rout,phermones,L):\n",
    "    for i in range(len(rout)-1):\n",
    "        if (str(rout[i])+\"->\"+str(rout[i+1])) in phermones:\n",
    "            phermones[str(rout[i])+\"->\"+str(rout[i+1])]+=1/L\n",
    "        else:\n",
    "            phermones[str(rout[i+1])+\"->\"+str(rout[i])]+=1/L\n",
    "    return phermones"
   ]
  },
  {
   "cell_type": "code",
   "execution_count": 152,
   "metadata": {},
   "outputs": [],
   "source": [
    "phermones=intialize_phermones(6)"
   ]
  },
  {
   "cell_type": "code",
   "execution_count": 153,
   "metadata": {},
   "outputs": [
    {
     "data": {
      "text/plain": [
       "{'1->2': 0,\n",
       " '1->3': 0,\n",
       " '1->4': 0,\n",
       " '1->5': 0,\n",
       " '1->6': 0,\n",
       " '2->3': 0,\n",
       " '2->4': 0,\n",
       " '2->5': 0,\n",
       " '2->6': 0,\n",
       " '3->4': 0,\n",
       " '3->5': 0,\n",
       " '3->6': 0,\n",
       " '4->5': 0,\n",
       " '4->6': 0,\n",
       " '5->6': 0}"
      ]
     },
     "execution_count": 153,
     "metadata": {},
     "output_type": "execute_result"
    }
   ],
   "source": [
    "phermones"
   ]
  },
  {
   "cell_type": "code",
   "execution_count": 154,
   "metadata": {},
   "outputs": [],
   "source": [
    "rout=np.array([1,3,4,2,5,6]).astype(int)"
   ]
  },
  {
   "cell_type": "code",
   "execution_count": 155,
   "metadata": {},
   "outputs": [],
   "source": [
    "phermones=put_phermons(rout,phermones,10)"
   ]
  },
  {
   "cell_type": "code",
   "execution_count": 156,
   "metadata": {},
   "outputs": [
    {
     "data": {
      "text/plain": [
       "{'1->2': 0,\n",
       " '1->3': 0.1,\n",
       " '1->4': 0,\n",
       " '1->5': 0,\n",
       " '1->6': 0,\n",
       " '2->3': 0,\n",
       " '2->4': 0.1,\n",
       " '2->5': 0.1,\n",
       " '2->6': 0,\n",
       " '3->4': 0.1,\n",
       " '3->5': 0,\n",
       " '3->6': 0,\n",
       " '4->5': 0,\n",
       " '4->6': 0,\n",
       " '5->6': 0.1}"
      ]
     },
     "execution_count": 156,
     "metadata": {},
     "output_type": "execute_result"
    }
   ],
   "source": [
    "phermones"
   ]
  },
  {
   "cell_type": "code",
   "execution_count": 157,
   "metadata": {},
   "outputs": [],
   "source": [
    "def update_phermons(phermones,raw):\n",
    "    for i in phermones:\n",
    "        phermones[i]*=(1-raw)\n",
    "    return phermones"
   ]
  },
  {
   "cell_type": "code",
   "execution_count": 158,
   "metadata": {},
   "outputs": [
    {
     "data": {
      "text/plain": [
       "{'1->2': 0.0,\n",
       " '1->3': 0.05,\n",
       " '1->4': 0.0,\n",
       " '1->5': 0.0,\n",
       " '1->6': 0.0,\n",
       " '2->3': 0.0,\n",
       " '2->4': 0.05,\n",
       " '2->5': 0.05,\n",
       " '2->6': 0.0,\n",
       " '3->4': 0.05,\n",
       " '3->5': 0.0,\n",
       " '3->6': 0.0,\n",
       " '4->5': 0.0,\n",
       " '4->6': 0.0,\n",
       " '5->6': 0.05}"
      ]
     },
     "execution_count": 158,
     "metadata": {},
     "output_type": "execute_result"
    }
   ],
   "source": [
    "update_phermons(phermones,0.5)"
   ]
  },
  {
   "cell_type": "code",
   "execution_count": 183,
   "metadata": {},
   "outputs": [],
   "source": [
    "def ACO(n_cities,N_ants,N_iterations,raw):# raw rate of evaporate pheramons over time  \n",
    "    cities=np.arange(1,n_cities+1).astype(int)\n",
    "    dists=intialize_dist(cities)\n",
    "    phermones=intialize_phermones(n_cities)\n",
    "    best_rout=[]\n",
    "   \n",
    "    for i in range(N_iterations):\n",
    "        routs=[]\n",
    "       \n",
    "        L=list()\n",
    "        for k in range(N_ants):\n",
    "            rout=[]\n",
    "            \n",
    "            if k==0:#the first ant has no L before so it will determine L randomly \n",
    "                np.random.shuffle(cities)\n",
    "                \n",
    "                l=Lk(cities,dists)\n",
    "                L.append(l)\n",
    "                phermones=put_phermons(rout,phermones,l)\n",
    "                routs.append(cities)\n",
    "                \n",
    "            \n",
    "                \n",
    "            else:\n",
    "                cur_nod=cities[0]\n",
    "                next_nodes=cities[1:]\n",
    "                rout.append(cur_nod)\n",
    "             \n",
    "                \n",
    "                l=L[k-1]\n",
    "                while len(rout)< n_cities:\n",
    "                    props=prop_calc(cur_nod,next_nodes,l,dists)\n",
    "                    cur_nod=next_nodes[np.argmax(props)]\n",
    "                    next_nodes=np.delete(next_nodes,np.argmax(props))#we choose maximum propability of next node \n",
    "                    rout.append(cur_nod)\n",
    "                L.append(Lk(rout,dists))\n",
    "                rout=np.array(rout)\n",
    "                phermones=put_phermons(rout,phermones,L[k])\n",
    "            routs.append(rout)\n",
    "           \n",
    "            \n",
    "        best_rout=routs[np.argmin(L)]\n",
    "        phermones=update_phermons(phermones,raw)\n",
    "            \n",
    "    return best_rout,phermones\n",
    "                    \n",
    "                     \n",
    "                "
   ]
  },
  {
   "cell_type": "code",
   "execution_count": 184,
   "metadata": {},
   "outputs": [],
   "source": [
    "a=(np.arange(1,6)[1:])"
   ]
  },
  {
   "cell_type": "code",
   "execution_count": 169,
   "metadata": {},
   "outputs": [
    {
     "name": "stdout",
     "output_type": "stream",
     "text": [
      "75\n",
      "[1 5 3 4 2]\n"
     ]
    }
   ],
   "source": [
    "rout=np.arange(1,6)\n",
    "np.random.shuffle(rout)\n",
    "print(Lk(rout,dist))\n",
    "print(rout)\n"
   ]
  },
  {
   "cell_type": "code",
   "execution_count": 82,
   "metadata": {},
   "outputs": [
    {
     "data": {
      "text/plain": [
       "{'1->2': 9,\n",
       " '1->3': 7,\n",
       " '1->4': 6,\n",
       " '1->5': 24,\n",
       " '2->3': 0,\n",
       " '2->4': 10,\n",
       " '2->5': 5,\n",
       " '3->4': 17,\n",
       " '3->5': 24,\n",
       " '4->5': 9}"
      ]
     },
     "execution_count": 82,
     "metadata": {},
     "output_type": "execute_result"
    }
   ],
   "source": [
    "dist"
   ]
  },
  {
   "cell_type": "code",
   "execution_count": null,
   "metadata": {},
   "outputs": [],
   "source": []
  },
  {
   "cell_type": "code",
   "execution_count": 80,
   "metadata": {},
   "outputs": [
    {
     "data": {
      "text/plain": [
       "True"
      ]
     },
     "execution_count": 80,
     "metadata": {},
     "output_type": "execute_result"
    }
   ],
   "source": [
    "'3->6'=='3->6'"
   ]
  },
  {
   "cell_type": "code",
   "execution_count": 179,
   "metadata": {},
   "outputs": [
    {
     "data": {
      "text/plain": [
       "{'1->2': 0.0,\n",
       " '1->3': 0.0644205882352941,\n",
       " '1->4': 0.1080424836601307,\n",
       " '1->5': 0.1724630718954248,\n",
       " '1->6': 0.0,\n",
       " '2->3': 0.0,\n",
       " '2->4': 0.14219836601307187,\n",
       " '2->5': 0.0,\n",
       " '2->6': 0.1724630718954248,\n",
       " '3->4': 0.0,\n",
       " '3->5': 0.1080424836601307,\n",
       " '3->6': 0.0,\n",
       " '4->5': 0.0644205882352941,\n",
       " '4->6': 0.03026470588235293,\n",
       " '5->6': 0.0}"
      ]
     },
     "execution_count": 179,
     "metadata": {},
     "output_type": "execute_result"
    }
   ],
   "source": [
    "phermones"
   ]
  },
  {
   "cell_type": "code",
   "execution_count": 186,
   "metadata": {},
   "outputs": [],
   "source": [
    "best,phermones= ACO(6,4,4,0.3)"
   ]
  },
  {
   "cell_type": "code",
   "execution_count": null,
   "metadata": {},
   "outputs": [],
   "source": []
  }
 ],
 "metadata": {
  "kernelspec": {
   "display_name": "Python 3",
   "language": "python",
   "name": "python3"
  },
  "language_info": {
   "codemirror_mode": {
    "name": "ipython",
    "version": 3
   },
   "file_extension": ".py",
   "mimetype": "text/x-python",
   "name": "python",
   "nbconvert_exporter": "python",
   "pygments_lexer": "ipython3",
   "version": "3.7.3"
  }
 },
 "nbformat": 4,
 "nbformat_minor": 2
}
