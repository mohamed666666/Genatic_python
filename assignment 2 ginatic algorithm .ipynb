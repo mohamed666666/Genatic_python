{
 "cells": [
  {
   "cell_type": "code",
   "execution_count": 6,
   "metadata": {},
   "outputs": [],
   "source": [
    "import numpy as np"
   ]
  },
  {
   "cell_type": "code",
   "execution_count": 7,
   "metadata": {},
   "outputs": [],
   "source": [
    "def init_pop_bin(npop,clen):\n",
    "    return np.random.randint(0,2,(npop,clen))"
   ]
  },
  {
   "cell_type": "code",
   "execution_count": 25,
   "metadata": {},
   "outputs": [],
   "source": [
    "def binary_cross_over(tps,pcross):\n",
    "    tow_childrens=np.zeros(tps.shape)\n",
    "    if np.random.rand()<=pcross:\n",
    "        cross_point=np.random.randint(1,tps.shape[1]-1)\n",
    "        tow_childrens[0][0:cross_point]=tps[0][0:cross_point]\n",
    "        tow_childrens[0][cross_point:]=tps[1][cross_point:]\n",
    "        tow_childrens[1][0:cross_point]=tps[1][0:cross_point]\n",
    "        tow_childrens[1][cross_point:]=tps[0][cross_point:]\n",
    "    return tow_childrens"
   ]
  },
  {
   "cell_type": "code",
   "execution_count": 24,
   "metadata": {},
   "outputs": [],
   "source": [
    "def bin_mute(cromosom,pmute):\n",
    "    for i in range(len(cromosom)):\n",
    "        if np.random.rand() <=pmute:\n",
    "            if cromosom[i]==0:\n",
    "                cromosom[i]=1\n",
    "            else:\n",
    "                cromosom[i]=0\n",
    "    return cromosom"
   ]
  },
  {
   "cell_type": "code",
   "execution_count": 23,
   "metadata": {},
   "outputs": [],
   "source": [
    "def decodeInd(binaryInd,R_min,R_max,L):\n",
    "    binsum=0\n",
    "    for i in range(L):\n",
    "        binsum+=binaryInd[i]*(2**(L-i-1))\n",
    "    return R_min+(binsum/2**L)*(R_max-R_min)"
   ]
  },
  {
   "cell_type": "code",
   "execution_count": 26,
   "metadata": {},
   "outputs": [],
   "source": [
    "def evaluate_fitness(x,y):\n",
    "    return (x+2*y-7)**2+(2*x+y-5)**2"
   ]
  },
  {
   "cell_type": "code",
   "execution_count": 27,
   "metadata": {},
   "outputs": [],
   "source": [
    "def minindex(l):\n",
    "    m=l[0]\n",
    "    c=0\n",
    "    for i in range(len(l)):\n",
    "        if l[i]<m:\n",
    "            m=l[i]\n",
    "            c=i\n",
    "    return c"
   ]
  },
  {
   "cell_type": "code",
   "execution_count": 28,
   "metadata": {},
   "outputs": [],
   "source": [
    "def tourment_selectian(pop,tour_size,fitness_values):\n",
    "    tow_parents=np.zeros((2,pop.shape[1]))\n",
    "    for i in range(len(tow_parents)):\n",
    "        slicer=np.random.randint(0,pop.shape[0]-tour_size)\n",
    "        tour=pop[slicer:slicer+tour_size]\n",
    "        fit=fitness_values[slicer:slicer+tour_size]\n",
    "        minindex_in_pop=minindex(fit)\n",
    "        tow_parents[i]=tour[minindex_in_pop]\n",
    "    return tow_parents\n",
    "    "
   ]
  },
  {
   "cell_type": "code",
   "execution_count": 29,
   "metadata": {},
   "outputs": [],
   "source": [
    "def pop_fitness(pop,npop,clen):\n",
    "    fitness_values=np.zeros((npop,1))\n",
    "    for c in range(npop):\n",
    "          fitness_values[c]=evaluate_fitness(decodeInd(pop[c][:int(clen/2)],-10,10,int(clen/2)),decodeInd(pop[c][int(clen/2):],-10,10,int(clen/2)))\n",
    "                                           \n",
    "    return fitness_values                                     "
   ]
  },
  {
   "cell_type": "code",
   "execution_count": 30,
   "metadata": {},
   "outputs": [],
   "source": [
    "def runBinGA(npop,clen,ngen,pcross,pmute):\n",
    "    #intialize population \n",
    "    pop=init_pop_bin(npop,clen)\n",
    "    highstfit=[]\n",
    "    fin_pop_fitness=np.zeros((ngen*2,1))\n",
    "    finpop=np.zeros((ngen*2,clen))\n",
    "    fitness_values=pop_fitness(pop,npop,clen)\n",
    "    ########################################\n",
    "    for i in range(ngen):\n",
    "        tow_parents = tourment_selectian(pop,5,fitness_values)\n",
    "        new_cheldrins=binary_cross_over(tow_parents,pcross)\n",
    "        for j in range(len(new_cheldrins)):\n",
    "            new_cheldrins[j]= bin_mute(new_cheldrins[j],pmute)\n",
    "        finpop[i]=new_cheldrins[0]\n",
    "        finpop[ngen*2-i-1]=new_cheldrins[1]\n",
    "                                           \n",
    "        \n",
    "        fin_pop_fitness=pop_fitness(finpop,ngen*2,clen)\n",
    "        highstfit.append(np.max(fin_pop_fitness))\n",
    "    #################################\n",
    "    index_of_minmum_fitness_infinPop=minindex(fin_pop_fitness)\n",
    "    z=fin_pop_fitness[index_of_minmum_fitness_infinPop]\n",
    "    x=decodeInd(finpop[index_of_minmum_fitness_infinPop][:int(clen/2)],-10,10,int(clen/2))\n",
    "    y=decodeInd(finpop[index_of_minmum_fitness_infinPop][int(clen/2):],-10,10,int(clen/2))\n",
    "    Solutions=(z,x,y)\n",
    "    return Solutions,highstfit                                           \n",
    "                                                      "
   ]
  },
  {
   "cell_type": "code",
   "execution_count": 33,
   "metadata": {},
   "outputs": [
    {
     "name": "stdout",
     "output_type": "stream",
     "text": [
      "11\n"
     ]
    }
   ],
   "source": [
    "l=np.array([11,22,111,455,1117,99])\n",
    "print(l[minindex(l)])\n"
   ]
  },
  {
   "cell_type": "code",
   "execution_count": 32,
   "metadata": {},
   "outputs": [],
   "source": [
    "finpop,besthist=runBinGA(30,10,50,0.7,0.01)"
   ]
  },
  {
   "cell_type": "code",
   "execution_count": null,
   "metadata": {},
   "outputs": [],
   "source": []
  }
 ],
 "metadata": {
  "kernelspec": {
   "display_name": "Python 3",
   "language": "python",
   "name": "python3"
  },
  "language_info": {
   "codemirror_mode": {
    "name": "ipython",
    "version": 3
   },
   "file_extension": ".py",
   "mimetype": "text/x-python",
   "name": "python",
   "nbconvert_exporter": "python",
   "pygments_lexer": "ipython3",
   "version": "3.7.3"
  }
 },
 "nbformat": 4,
 "nbformat_minor": 2
}
