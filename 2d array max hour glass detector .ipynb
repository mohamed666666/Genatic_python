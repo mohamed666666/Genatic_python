{
 "cells": [
  {
   "cell_type": "code",
   "execution_count": 3,
   "metadata": {},
   "outputs": [],
   "source": [
    "a=12345482"
   ]
  },
  {
   "cell_type": "code",
   "execution_count": 6,
   "metadata": {},
   "outputs": [
    {
     "data": {
      "text/plain": [
       "['1', '2', '3', '4', '5', '4', '8', '2']"
      ]
     },
     "execution_count": 6,
     "metadata": {},
     "output_type": "execute_result"
    }
   ],
   "source": [
    "list(str(a))"
   ]
  },
  {
   "cell_type": "code",
   "execution_count": 25,
   "metadata": {},
   "outputs": [],
   "source": [
    "def hourglassSum(arr):\n",
    "    sumh=0\n",
    "    for i in range(len(arr)):\n",
    "        if i==1:\n",
    "                sumh+=arr[1][1]\n",
    "                continue\n",
    "        for j in range(len(arr)):\n",
    "            sumh+=arr[i][j] \n",
    "    return sumh\n"
   ]
  },
  {
   "cell_type": "code",
   "execution_count": 17,
   "metadata": {},
   "outputs": [],
   "source": [
    "arr=[[2,4,4],[55,2,112],[1,2,4]]"
   ]
  },
  {
   "cell_type": "code",
   "execution_count": 21,
   "metadata": {},
   "outputs": [
    {
     "data": {
      "text/plain": [
       "[[2, 4, 4], [55, 2, 112], [1, 2, 4]]"
      ]
     },
     "execution_count": 21,
     "metadata": {},
     "output_type": "execute_result"
    }
   ],
   "source": [
    "arr"
   ]
  },
  {
   "cell_type": "code",
   "execution_count": 22,
   "metadata": {},
   "outputs": [
    {
     "data": {
      "text/plain": [
       "19"
      ]
     },
     "execution_count": 22,
     "metadata": {},
     "output_type": "execute_result"
    }
   ],
   "source": [
    "hourglassSum(arr)"
   ]
  },
  {
   "cell_type": "code",
   "execution_count": 23,
   "metadata": {},
   "outputs": [
    {
     "data": {
      "text/plain": [
       "range(0, 5)"
      ]
     },
     "execution_count": 23,
     "metadata": {},
     "output_type": "execute_result"
    }
   ],
   "source": [
    "range(5)"
   ]
  },
  {
   "cell_type": "code",
   "execution_count": 24,
   "metadata": {},
   "outputs": [
    {
     "data": {
      "text/plain": [
       "range(0, 10, 2)"
      ]
     },
     "execution_count": 24,
     "metadata": {},
     "output_type": "execute_result"
    }
   ],
   "source": [
    "range(0,10,2)"
   ]
  },
  {
   "cell_type": "code",
   "execution_count": 25,
   "metadata": {},
   "outputs": [],
   "source": [
    "a=range(0,10,2)"
   ]
  },
  {
   "cell_type": "code",
   "execution_count": 28,
   "metadata": {},
   "outputs": [
    {
     "name": "stdout",
     "output_type": "stream",
     "text": [
      "0\n",
      "2\n",
      "4\n",
      "6\n",
      "8\n"
     ]
    }
   ],
   "source": [
    "for i in a:\n",
    "    print(i)"
   ]
  },
  {
   "cell_type": "code",
   "execution_count": 1,
   "metadata": {},
   "outputs": [],
   "source": [
    "def sliser(l,s):\n",
    "    temp=[]\n",
    "    for i in range((len(l)-s)+1):\n",
    "        temp.append(l[i:i+s])\n",
    "    return temp"
   ]
  },
  {
   "cell_type": "code",
   "execution_count": 2,
   "metadata": {},
   "outputs": [
    {
     "name": "stdout",
     "output_type": "stream",
     "text": [
      "3\n"
     ]
    }
   ],
   "source": [
    "test=[0,1,2,3,4,5]\n",
    "print(int(len(test)/2))"
   ]
  },
  {
   "cell_type": "code",
   "execution_count": 3,
   "metadata": {},
   "outputs": [
    {
     "data": {
      "text/plain": [
       "[[0, 1, 2], [1, 2, 3], [2, 3, 4], [3, 4, 5]]"
      ]
     },
     "execution_count": 3,
     "metadata": {},
     "output_type": "execute_result"
    }
   ],
   "source": [
    "sliser(test,3)"
   ]
  },
  {
   "cell_type": "code",
   "execution_count": 54,
   "metadata": {},
   "outputs": [],
   "source": [
    "test2=[0,1,2,3,4,5,6]"
   ]
  },
  {
   "cell_type": "code",
   "execution_count": 61,
   "metadata": {},
   "outputs": [
    {
     "name": "stdout",
     "output_type": "stream",
     "text": [
      "[0, 1, 2]\n",
      "[1, 2, 3]\n",
      "[2, 3, 4]\n",
      "[3, 4, 5]\n",
      "[4, 5, 6]\n"
     ]
    }
   ],
   "source": [
    "sliser(test2,3)"
   ]
  },
  {
   "cell_type": "code",
   "execution_count": 12,
   "metadata": {},
   "outputs": [],
   "source": [
    "test3=[0,1,2,3,4,5]"
   ]
  },
  {
   "cell_type": "code",
   "execution_count": 13,
   "metadata": {},
   "outputs": [
    {
     "data": {
      "text/plain": [
       "[[0, 1, 2], [1, 2, 3], [2, 3, 4], [3, 4, 5]]"
      ]
     },
     "execution_count": 13,
     "metadata": {},
     "output_type": "execute_result"
    }
   ],
   "source": [
    "sliser(test3,3)"
   ]
  },
  {
   "cell_type": "code",
   "execution_count": 16,
   "metadata": {},
   "outputs": [],
   "source": [
    "def sliser2d(l,s):\n",
    "    for i in range((len(l)-s)+1):\n",
    "        for j in range((len(l)-s)+1):\n",
    "            a=l[i:i+s][j:j+s]\n",
    "        print(a)"
   ]
  },
  {
   "cell_type": "code",
   "execution_count": 4,
   "metadata": {},
   "outputs": [],
   "source": [
    "test4=[[0,10,20,30,40,50],[0.1,11,21,31,41,51],[0.2,12,22,32,42,52],[0.3,13,23,33,43,53],[0.4,14,24,34,44,54],[0.5,15,25,35,45,55]]"
   ]
  },
  {
   "cell_type": "code",
   "execution_count": 5,
   "metadata": {},
   "outputs": [
    {
     "data": {
      "text/plain": [
       "[[0, 10, 20, 30, 40, 50],\n",
       " [0.1, 11, 21, 31, 41, 51],\n",
       " [0.2, 12, 22, 32, 42, 52],\n",
       " [0.3, 13, 23, 33, 43, 53],\n",
       " [0.4, 14, 24, 34, 44, 54],\n",
       " [0.5, 15, 25, 35, 45, 55]]"
      ]
     },
     "execution_count": 5,
     "metadata": {},
     "output_type": "execute_result"
    }
   ],
   "source": [
    "test4"
   ]
  },
  {
   "cell_type": "code",
   "execution_count": 25,
   "metadata": {},
   "outputs": [
    {
     "name": "stdout",
     "output_type": "stream",
     "text": [
      "[]\n",
      "[]\n",
      "[]\n",
      "[]\n"
     ]
    }
   ],
   "source": [
    "sliser2d(test4,3)"
   ]
  },
  {
   "cell_type": "code",
   "execution_count": 6,
   "metadata": {},
   "outputs": [
    {
     "data": {
      "text/plain": [
       "[[0, 10, 20, 30, 40, 50],\n",
       " [0.1, 11, 21, 31, 41, 51],\n",
       " [0.2, 12, 22, 32, 42, 52],\n",
       " [0.3, 13, 23, 33, 43, 53],\n",
       " [0.4, 14, 24, 34, 44, 54],\n",
       " [0.5, 15, 25, 35, 45, 55]]"
      ]
     },
     "execution_count": 6,
     "metadata": {},
     "output_type": "execute_result"
    }
   ],
   "source": [
    "test4"
   ]
  },
  {
   "cell_type": "code",
   "execution_count": 7,
   "metadata": {},
   "outputs": [
    {
     "name": "stdout",
     "output_type": "stream",
     "text": [
      "6\n",
      "[[[0, 10, 20], [10, 20, 30], [20, 30, 40], [30, 40, 50]], [[0.1, 11, 21], [11, 21, 31], [21, 31, 41], [31, 41, 51]], [[0.2, 12, 22], [12, 22, 32], [22, 32, 42], [32, 42, 52]], [[0.3, 13, 23], [13, 23, 33], [23, 33, 43], [33, 43, 53]], [[0.4, 14, 24], [14, 24, 34], [24, 34, 44], [34, 44, 54]], [[0.5, 15, 25], [15, 25, 35], [25, 35, 45], [35, 45, 55]]]\n"
     ]
    }
   ],
   "source": [
    "test4templates=[]\n",
    "for i in test4:\n",
    "    test4templates.append(sliser(i,3))\n",
    "print(len(test4templates))\n",
    "print(test4templates)"
   ]
  },
  {
   "cell_type": "code",
   "execution_count": 8,
   "metadata": {},
   "outputs": [
    {
     "name": "stdout",
     "output_type": "stream",
     "text": [
      "[[0, 10, 20], [10, 20, 30], [20, 30, 40], [30, 40, 50]]\n",
      "[[0.1, 11, 21], [11, 21, 31], [21, 31, 41], [31, 41, 51]]\n",
      "[[0.2, 12, 22], [12, 22, 32], [22, 32, 42], [32, 42, 52]]\n",
      "[[0.3, 13, 23], [13, 23, 33], [23, 33, 43], [33, 43, 53]]\n",
      "[[0.4, 14, 24], [14, 24, 34], [24, 34, 44], [34, 44, 54]]\n",
      "[[0.5, 15, 25], [15, 25, 35], [25, 35, 45], [35, 45, 55]]\n"
     ]
    }
   ],
   "source": [
    "for i in test4templates:\n",
    "    print(i)\n",
    "\n"
   ]
  },
  {
   "cell_type": "code",
   "execution_count": 51,
   "metadata": {},
   "outputs": [
    {
     "data": {
      "text/plain": [
       "10"
      ]
     },
     "execution_count": 51,
     "metadata": {},
     "output_type": "execute_result"
    }
   ],
   "source": [
    "test4[0][1]"
   ]
  },
  {
   "cell_type": "code",
   "execution_count": 9,
   "metadata": {},
   "outputs": [
    {
     "data": {
      "text/plain": [
       "4"
      ]
     },
     "execution_count": 9,
     "metadata": {},
     "output_type": "execute_result"
    }
   ],
   "source": [
    "len(test4templates[5])"
   ]
  },
  {
   "cell_type": "code",
   "execution_count": 26,
   "metadata": {},
   "outputs": [
    {
     "name": "stdout",
     "output_type": "stream",
     "text": [
      "[[0, 10, 20], [10, 20, 30], [20, 30, 40], [30, 40, 50]]\n",
      "[[0.1, 11, 21], [11, 21, 31], [21, 31, 41], [31, 41, 51]]\n",
      "[[0.2, 12, 22], [12, 22, 32], [22, 32, 42], [32, 42, 52]]\n",
      "[[0.3, 13, 23], [13, 23, 33], [23, 33, 43], [33, 43, 53]]\n",
      "[[0.4, 14, 24], [14, 24, 34], [24, 34, 44], [34, 44, 54]]\n",
      "[[0.5, 15, 25], [15, 25, 35], [25, 35, 45], [35, 45, 55]]\n",
      "=====\n",
      "6\n",
      "4\n"
     ]
    }
   ],
   "source": [
    "def tr(temp,s):\n",
    "        tempr=[]\n",
    "        for x in range(len(temp[1])):\n",
    "            \n",
    "            for y in range((len(temp)-s)+1):\n",
    "                i=y\n",
    "                while i <y+s:\n",
    "                    print(temp[i][x])\n",
    "                    tempr.append(temp[i][x])\n",
    "                    i+=1\n",
    "                print(tempr)   \n",
    "                tempr=[]\n",
    "                print(\"=============\")\n",
    "                    \n",
    "                    \n",
    "               \n",
    "                  \n",
    "            print(\"====\")\n",
    "\n",
    "                    \n",
    "                    \n",
    "        \n",
    "for i in test4templates:\n",
    "    print(i)\n",
    "print(\"=====\")  \n",
    "print(len(test4templates))\n",
    "print(len(test4templates[5]))\n"
   ]
  },
  {
   "cell_type": "code",
   "execution_count": 24,
   "metadata": {},
   "outputs": [
    {
     "name": "stdout",
     "output_type": "stream",
     "text": [
      "[0, 10, 20]\n",
      "[0.1, 11, 21]\n",
      "[0.2, 12, 22]\n",
      "[[0, 10, 20], [0.1, 11, 21], [0.2, 12, 22]]\n",
      "=============\n",
      "[0.1, 11, 21]\n",
      "[0.2, 12, 22]\n",
      "[0.3, 13, 23]\n",
      "[[0.1, 11, 21], [0.2, 12, 22], [0.3, 13, 23]]\n",
      "=============\n",
      "[0.2, 12, 22]\n",
      "[0.3, 13, 23]\n",
      "[0.4, 14, 24]\n",
      "[[0.2, 12, 22], [0.3, 13, 23], [0.4, 14, 24]]\n",
      "=============\n",
      "[0.3, 13, 23]\n",
      "[0.4, 14, 24]\n",
      "[0.5, 15, 25]\n",
      "[[0.3, 13, 23], [0.4, 14, 24], [0.5, 15, 25]]\n",
      "=============\n",
      "====\n",
      "[10, 20, 30]\n",
      "[11, 21, 31]\n",
      "[12, 22, 32]\n",
      "[[10, 20, 30], [11, 21, 31], [12, 22, 32]]\n",
      "=============\n",
      "[11, 21, 31]\n",
      "[12, 22, 32]\n",
      "[13, 23, 33]\n",
      "[[11, 21, 31], [12, 22, 32], [13, 23, 33]]\n",
      "=============\n",
      "[12, 22, 32]\n",
      "[13, 23, 33]\n",
      "[14, 24, 34]\n",
      "[[12, 22, 32], [13, 23, 33], [14, 24, 34]]\n",
      "=============\n",
      "[13, 23, 33]\n",
      "[14, 24, 34]\n",
      "[15, 25, 35]\n",
      "[[13, 23, 33], [14, 24, 34], [15, 25, 35]]\n",
      "=============\n",
      "====\n",
      "[20, 30, 40]\n",
      "[21, 31, 41]\n",
      "[22, 32, 42]\n",
      "[[20, 30, 40], [21, 31, 41], [22, 32, 42]]\n",
      "=============\n",
      "[21, 31, 41]\n",
      "[22, 32, 42]\n",
      "[23, 33, 43]\n",
      "[[21, 31, 41], [22, 32, 42], [23, 33, 43]]\n",
      "=============\n",
      "[22, 32, 42]\n",
      "[23, 33, 43]\n",
      "[24, 34, 44]\n",
      "[[22, 32, 42], [23, 33, 43], [24, 34, 44]]\n",
      "=============\n",
      "[23, 33, 43]\n",
      "[24, 34, 44]\n",
      "[25, 35, 45]\n",
      "[[23, 33, 43], [24, 34, 44], [25, 35, 45]]\n",
      "=============\n",
      "====\n",
      "[30, 40, 50]\n",
      "[31, 41, 51]\n",
      "[32, 42, 52]\n",
      "[[30, 40, 50], [31, 41, 51], [32, 42, 52]]\n",
      "=============\n",
      "[31, 41, 51]\n",
      "[32, 42, 52]\n",
      "[33, 43, 53]\n",
      "[[31, 41, 51], [32, 42, 52], [33, 43, 53]]\n",
      "=============\n",
      "[32, 42, 52]\n",
      "[33, 43, 53]\n",
      "[34, 44, 54]\n",
      "[[32, 42, 52], [33, 43, 53], [34, 44, 54]]\n",
      "=============\n",
      "[33, 43, 53]\n",
      "[34, 44, 54]\n",
      "[35, 45, 55]\n",
      "[[33, 43, 53], [34, 44, 54], [35, 45, 55]]\n",
      "=============\n",
      "====\n",
      "None\n"
     ]
    }
   ],
   "source": [
    "print(tr(test4templates,3))\n"
   ]
  },
  {
   "cell_type": "code",
   "execution_count": 124,
   "metadata": {},
   "outputs": [
    {
     "data": {
      "text/plain": [
       "1"
      ]
     },
     "execution_count": 124,
     "metadata": {},
     "output_type": "execute_result"
    }
   ],
   "source": [
    "1%3"
   ]
  },
  {
   "cell_type": "code",
   "execution_count": 125,
   "metadata": {},
   "outputs": [
    {
     "data": {
      "text/plain": [
       "0"
      ]
     },
     "execution_count": 125,
     "metadata": {},
     "output_type": "execute_result"
    }
   ],
   "source": [
    "6%3"
   ]
  },
  {
   "cell_type": "code",
   "execution_count": 27,
   "metadata": {},
   "outputs": [],
   "source": [
    "import math"
   ]
  },
  {
   "cell_type": "code",
   "execution_count": 29,
   "metadata": {},
   "outputs": [
    {
     "name": "stdout",
     "output_type": "stream",
     "text": [
      "45\n"
     ]
    }
   ],
   "source": [
    "l=[14,17,25,45,0,12]\n",
    "print(max(l))"
   ]
  },
  {
   "cell_type": "code",
   "execution_count": null,
   "metadata": {},
   "outputs": [],
   "source": []
  }
 ],
 "metadata": {
  "kernelspec": {
   "display_name": "Python 3",
   "language": "python",
   "name": "python3"
  },
  "language_info": {
   "codemirror_mode": {
    "name": "ipython",
    "version": 3
   },
   "file_extension": ".py",
   "mimetype": "text/x-python",
   "name": "python",
   "nbconvert_exporter": "python",
   "pygments_lexer": "ipython3",
   "version": "3.7.4"
  }
 },
 "nbformat": 4,
 "nbformat_minor": 2
}
