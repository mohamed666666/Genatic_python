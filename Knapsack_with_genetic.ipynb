{
 "cells": [
  {
   "cell_type": "code",
   "execution_count": 1,
   "metadata": {},
   "outputs": [],
   "source": [
    "import numpy as np"
   ]
  },
  {
   "cell_type": "code",
   "execution_count": 2,
   "metadata": {},
   "outputs": [],
   "source": [
    "def init_pop_bin(npop,N_items):\n",
    "    return np.random.randint(0,2,(npop,N_items))"
   ]
  },
  {
   "cell_type": "code",
   "execution_count": 8,
   "metadata": {},
   "outputs": [],
   "source": [
    "def intialize_W_V(maxwight,N_items):# W_V[0] is wights and W_V[1] is values \n",
    "    W_V=np.zeros((2,N_items))\n",
    "    for i in range(len(W_V[0])):\n",
    "        W_V[0][i]=np.random.randint(1,maxwight)\n",
    "        W_V[1][i]=np.random.randint(1,N_items*N_items*2)\n",
    "    return W_V\n",
    "    "
   ]
  },
  {
   "cell_type": "code",
   "execution_count": 7,
   "metadata": {},
   "outputs": [
    {
     "data": {
      "text/plain": [
       "35"
      ]
     },
     "execution_count": 7,
     "metadata": {},
     "output_type": "execute_result"
    }
   ],
   "source": [
    "np.random.randint(10,50)"
   ]
  },
  {
   "cell_type": "code",
   "execution_count": 14,
   "metadata": {},
   "outputs": [],
   "source": [
    "W_V=intialize_W_V(50,10)"
   ]
  },
  {
   "cell_type": "code",
   "execution_count": 15,
   "metadata": {},
   "outputs": [
    {
     "data": {
      "text/plain": [
       "array([[ 24.,  48.,   6.,  49.,  28.,   9.,  24.,  46.,  17.,  48.],\n",
       "       [159.,  73.,  12., 108., 171.,  67.,  75.,  72.,   8., 190.]])"
      ]
     },
     "execution_count": 15,
     "metadata": {},
     "output_type": "execute_result"
    }
   ],
   "source": [
    "W_V"
   ]
  },
  {
   "cell_type": "code",
   "execution_count": 17,
   "metadata": {},
   "outputs": [],
   "source": [
    "s=np.random.randint(0,2,(1,10))"
   ]
  },
  {
   "cell_type": "code",
   "execution_count": 18,
   "metadata": {},
   "outputs": [
    {
     "data": {
      "text/plain": [
       "array([[0, 0, 1, 1, 1, 0, 1, 0, 1, 1]])"
      ]
     },
     "execution_count": 18,
     "metadata": {},
     "output_type": "execute_result"
    }
   ],
   "source": [
    "s"
   ]
  },
  {
   "cell_type": "code",
   "execution_count": 20,
   "metadata": {},
   "outputs": [
    {
     "data": {
      "text/plain": [
       "(10,)"
      ]
     },
     "execution_count": 20,
     "metadata": {},
     "output_type": "execute_result"
    }
   ],
   "source": [
    "W_V[0].shape"
   ]
  },
  {
   "cell_type": "code",
   "execution_count": 22,
   "metadata": {},
   "outputs": [
    {
     "data": {
      "text/plain": [
       "(10,)"
      ]
     },
     "execution_count": 22,
     "metadata": {},
     "output_type": "execute_result"
    }
   ],
   "source": [
    "s[0].shape"
   ]
  },
  {
   "cell_type": "code",
   "execution_count": 23,
   "metadata": {},
   "outputs": [],
   "source": [
    "W_V[0]*=s[0]"
   ]
  },
  {
   "cell_type": "code",
   "execution_count": 24,
   "metadata": {},
   "outputs": [
    {
     "data": {
      "text/plain": [
       "array([[  0.,   0.,   6.,  49.,  28.,   0.,  24.,   0.,  17.,  48.],\n",
       "       [159.,  73.,  12., 108., 171.,  67.,  75.,  72.,   8., 190.]])"
      ]
     },
     "execution_count": 24,
     "metadata": {},
     "output_type": "execute_result"
    }
   ],
   "source": [
    "W_V"
   ]
  },
  {
   "cell_type": "code",
   "execution_count": 33,
   "metadata": {},
   "outputs": [],
   "source": [
    "def crm_fit(crm,W_V):\n",
    "    W_V_fit=[]\n",
    "    for i in W_V:\n",
    "        W_V_fit.append((crm*i).sum())\n",
    "    return np.array(W_V_fit)"
   ]
  },
  {
   "cell_type": "code",
   "execution_count": 30,
   "metadata": {},
   "outputs": [
    {
     "name": "stdout",
     "output_type": "stream",
     "text": [
      "[ 0.  0.  6. 49. 28.  0. 24.  0. 17. 48.]\n",
      "[  0.   0.  12. 108. 171.   0.  75.   0.   8. 190.]\n"
     ]
    }
   ],
   "source": [
    "for i in W_V:\n",
    "    \n",
    "    print(s[0]*i)"
   ]
  },
  {
   "cell_type": "code",
   "execution_count": 29,
   "metadata": {},
   "outputs": [
    {
     "data": {
      "text/plain": [
       "array([0, 0, 1, 1, 1, 0, 1, 0, 1, 1])"
      ]
     },
     "execution_count": 29,
     "metadata": {},
     "output_type": "execute_result"
    }
   ],
   "source": [
    "s[0]"
   ]
  },
  {
   "cell_type": "code",
   "execution_count": 36,
   "metadata": {},
   "outputs": [
    {
     "data": {
      "text/plain": [
       "array([172., 564.])"
      ]
     },
     "execution_count": 36,
     "metadata": {},
     "output_type": "execute_result"
    }
   ],
   "source": [
    "crm_fit(s[0],W_V)"
   ]
  },
  {
   "cell_type": "code",
   "execution_count": 43,
   "metadata": {},
   "outputs": [],
   "source": [
    "def pop_fit(pop,W_V):\n",
    "    pop_fits=[]\n",
    "    for i in range(len(pop)):\n",
    "        pop_fits.append(crm_fit(pop[i],W_V))\n",
    "    return np.array(pop_fits)"
   ]
  },
  {
   "cell_type": "code",
   "execution_count": 38,
   "metadata": {},
   "outputs": [],
   "source": [
    "pop=init_pop_bin(5,7)"
   ]
  },
  {
   "cell_type": "code",
   "execution_count": 39,
   "metadata": {},
   "outputs": [],
   "source": [
    "wights_values=intialize_W_V(maxwight=20,N_items=7)"
   ]
  },
  {
   "cell_type": "code",
   "execution_count": 40,
   "metadata": {},
   "outputs": [
    {
     "data": {
      "text/plain": [
       "array([[ 2., 11.,  8., 12., 13., 12., 12.],\n",
       "       [95., 25.,  1., 72., 39., 13., 30.]])"
      ]
     },
     "execution_count": 40,
     "metadata": {},
     "output_type": "execute_result"
    }
   ],
   "source": [
    "wights_values"
   ]
  },
  {
   "cell_type": "code",
   "execution_count": 41,
   "metadata": {},
   "outputs": [
    {
     "data": {
      "text/plain": [
       "array([[1, 1, 0, 0, 1, 0, 1],\n",
       "       [1, 1, 1, 0, 0, 1, 1],\n",
       "       [1, 0, 1, 0, 0, 0, 1],\n",
       "       [0, 1, 0, 0, 0, 1, 1],\n",
       "       [0, 0, 1, 0, 0, 1, 0]])"
      ]
     },
     "execution_count": 41,
     "metadata": {},
     "output_type": "execute_result"
    }
   ],
   "source": [
    "pop"
   ]
  },
  {
   "cell_type": "code",
   "execution_count": 105,
   "metadata": {},
   "outputs": [],
   "source": [
    "fitts=pop_fit(pop,wights_values)"
   ]
  },
  {
   "cell_type": "code",
   "execution_count": 106,
   "metadata": {},
   "outputs": [
    {
     "data": {
      "text/plain": [
       "array([[0., 0.],\n",
       "       [0., 0.]])"
      ]
     },
     "execution_count": 106,
     "metadata": {},
     "output_type": "execute_result"
    }
   ],
   "source": [
    "fits[:2]"
   ]
  },
  {
   "cell_type": "code",
   "execution_count": 107,
   "metadata": {},
   "outputs": [
    {
     "data": {
      "text/plain": [
       "array([[ 38., 189.],\n",
       "       [ 45., 164.],\n",
       "       [ 22., 126.],\n",
       "       [ 35.,  68.],\n",
       "       [ 20.,  14.]])"
      ]
     },
     "execution_count": 107,
     "metadata": {},
     "output_type": "execute_result"
    }
   ],
   "source": [
    "fitts"
   ]
  },
  {
   "cell_type": "code",
   "execution_count": 54,
   "metadata": {},
   "outputs": [
    {
     "data": {
      "text/plain": [
       "0"
      ]
     },
     "execution_count": 54,
     "metadata": {},
     "output_type": "execute_result"
    }
   ],
   "source": [
    "np.argmax(fits[:,1])"
   ]
  },
  {
   "cell_type": "code",
   "execution_count": 56,
   "metadata": {},
   "outputs": [
    {
     "data": {
      "text/plain": [
       "38.0"
      ]
     },
     "execution_count": 56,
     "metadata": {},
     "output_type": "execute_result"
    }
   ],
   "source": [
    "fits[0][0]"
   ]
  },
  {
   "cell_type": "code",
   "execution_count": 57,
   "metadata": {},
   "outputs": [],
   "source": [
    "fits[0]=5"
   ]
  },
  {
   "cell_type": "code",
   "execution_count": 81,
   "metadata": {},
   "outputs": [
    {
     "data": {
      "text/plain": [
       "array([[ 38., 189.],\n",
       "       [ 45., 164.],\n",
       "       [ 22., 126.],\n",
       "       [ 35.,  68.],\n",
       "       [ 20.,  14.]])"
      ]
     },
     "execution_count": 81,
     "metadata": {},
     "output_type": "execute_result"
    }
   ],
   "source": [
    "fits"
   ]
  },
  {
   "cell_type": "code",
   "execution_count": 103,
   "metadata": {},
   "outputs": [],
   "source": [
    "def get_best_fit(fits,max_wight):\n",
    "    fits_temp=np.copy(fits)\n",
    "    max_index_val=np.argmax(fits_temp[:,1])\n",
    "    best_fit=0\n",
    "    while fits_temp[max_index_val,0]>max_wight:\n",
    "        fits_temp[max_index_val]=0\n",
    "        max_index_val=np.argmax(fits_temp[:,1])\n",
    "    best_fit=fits[max_index_val]\n",
    "    return best_fit,max_index_val\n",
    "    "
   ]
  },
  {
   "cell_type": "code",
   "execution_count": 109,
   "metadata": {},
   "outputs": [
    {
     "data": {
      "text/plain": [
       "(array([ 22., 126.]), 2)"
      ]
     },
     "execution_count": 109,
     "metadata": {},
     "output_type": "execute_result"
    }
   ],
   "source": [
    "get_best_fit(fitts,36)"
   ]
  },
  {
   "cell_type": "code",
   "execution_count": 110,
   "metadata": {},
   "outputs": [
    {
     "data": {
      "text/plain": [
       "(array([20., 14.]), 4)"
      ]
     },
     "execution_count": 110,
     "metadata": {},
     "output_type": "execute_result"
    }
   ],
   "source": [
    "get_best_fit(fitts,21)"
   ]
  },
  {
   "cell_type": "code",
   "execution_count": 111,
   "metadata": {},
   "outputs": [
    {
     "data": {
      "text/plain": [
       "array([[ 38., 189.],\n",
       "       [ 45., 164.],\n",
       "       [ 22., 126.],\n",
       "       [ 35.,  68.],\n",
       "       [ 20.,  14.]])"
      ]
     },
     "execution_count": 111,
     "metadata": {},
     "output_type": "execute_result"
    }
   ],
   "source": [
    "fitts\n"
   ]
  },
  {
   "cell_type": "code",
   "execution_count": null,
   "metadata": {},
   "outputs": [],
   "source": []
  },
  {
   "cell_type": "code",
   "execution_count": null,
   "metadata": {},
   "outputs": [],
   "source": []
  },
  {
   "cell_type": "code",
   "execution_count": 47,
   "metadata": {},
   "outputs": [],
   "source": [
    "def binary_cross_over(tps,pcross):\n",
    "    tow_childrens=np.zeros(tps.shape)\n",
    "    if np.random.rand()<=pcross:\n",
    "        cross_point=np.random.randint(1,tps.shape[1]-1)\n",
    "        tow_childrens[0][0:cross_point]=tps[0][0:cross_point]\n",
    "        tow_childrens[0][cross_point:]=tps[1][cross_point:]\n",
    "        tow_childrens[1][0:cross_point]=tps[1][0:cross_point]\n",
    "        tow_childrens[1][cross_point:]=tps[0][cross_point:]\n",
    "    return tow_childrens"
   ]
  },
  {
   "cell_type": "code",
   "execution_count": 48,
   "metadata": {},
   "outputs": [],
   "source": [
    "def bin_mute(cromosom,pmute):\n",
    "    for i in range(len(cromosom)):\n",
    "        if np.random.rand() <=pmute:\n",
    "            if cromosom[i]==0:\n",
    "                cromosom[i]=1\n",
    "            else:\n",
    "                cromosom[i]=0\n",
    "    return cromosom"
   ]
  },
  {
   "cell_type": "code",
   "execution_count": 117,
   "metadata": {},
   "outputs": [],
   "source": [
    "def tourment_selectian(pop,tour_size,fitness_values,maxwight):\n",
    "    tow_parents=np.zeros((2,pop.shape[1]))\n",
    "    for i in range(len(tow_parents)):\n",
    "        slicer=np.random.randint(0,pop.shape[0]-tour_size)\n",
    "        tour=pop[slicer:slicer+tour_size]\n",
    "        fit=fitness_values[slicer:slicer+tour_size]\n",
    "        \n",
    "        best_fits,index_of_bsf=get_best_fit(fit,maxwight)\n",
    "        tow_parents[i]=tour[index_of_bsf]\n",
    "        \n",
    "    return tow_parents\n",
    "    "
   ]
  },
  {
   "cell_type": "code",
   "execution_count": 120,
   "metadata": {},
   "outputs": [],
   "source": [
    "def runBinGA(n_pop,n_items,ngen,pcross,pmute,tour_size,max_wight):\n",
    "    #intialize population \n",
    "    pop=init_pop_bin(n_pop,n_items)\n",
    "    #intialize wights and values for every item \n",
    "    W_V=intialize_W_V(max_wight,n_items)\n",
    "    #intialize best solution \n",
    "    best_solution=[]\n",
    "    #intialize new pop\n",
    "    ofsprings=np.zeros((pop.shape))\n",
    "    \n",
    "    #loop over generations to create final ofsprings\n",
    "    for i in range(ngen):\n",
    "        fits=pop_fit(pop,W_V)\n",
    "        counter=0\n",
    "        while counter<len(ofsprings):\n",
    "            parents=tourment_selectian(pop,tour_size,fits,max_wight)#select two parents\n",
    "            #get childrens from cross over \n",
    "            ch= binary_cross_over(parents,pcross)\n",
    "            # mutation \n",
    "            for j in range(2):\n",
    "                ch[j]=bin_mute(ch[j],pmute)\n",
    "                \n",
    "            ofsprings[counter]=ch[0]\n",
    "            ofsprings[len(ofsprings)-counter-1]=ch[1]\n",
    "            counter+=1\n",
    "            \n",
    "        \n",
    "        ofspring_fit=pop_fit(ofsprings,W_V)\n",
    "        best_fit_sol,index_of_bfs=get_best_fit(ofspring_fit,max_wight)\n",
    "        best_solution.append(ofsprings[index_of_bfs])\n",
    "        pop=ofsprings\n",
    "    \n",
    "  \n",
    "    \n",
    "    \n",
    "    return best_solution                                       \n",
    "                                 "
   ]
  },
  {
   "cell_type": "code",
   "execution_count": 121,
   "metadata": {},
   "outputs": [
    {
     "data": {
      "text/plain": [
       "[array([0., 0., 0., 0., 0., 0., 0., 0., 0., 0.]),\n",
       " array([0., 0., 0., 0., 0., 0., 0., 0., 0., 0.]),\n",
       " array([0., 0., 0., 0., 0., 0., 0., 0., 0., 0.]),\n",
       " array([0., 0., 0., 0., 0., 1., 1., 0., 1., 0.]),\n",
       " array([0., 0., 0., 0., 0., 1., 1., 0., 0., 0.]),\n",
       " array([0., 0., 0., 0., 0., 1., 1., 0., 1., 0.]),\n",
       " array([0., 0., 0., 0., 0., 0., 0., 0., 0., 0.]),\n",
       " array([0., 0., 0., 0., 0., 0., 0., 0., 0., 0.]),\n",
       " array([0., 0., 0., 0., 0., 0., 0., 0., 0., 0.]),\n",
       " array([0., 0., 0., 0., 0., 1., 1., 0., 1., 0.])]"
      ]
     },
     "execution_count": 121,
     "metadata": {},
     "output_type": "execute_result"
    }
   ],
   "source": [
    "runBinGA(n_pop=50,n_items=10,ngen=10,pcross=0.7,pmute=0.01,tour_size=10,max_wight=100)"
   ]
  },
  {
   "cell_type": "code",
   "execution_count": null,
   "metadata": {},
   "outputs": [],
   "source": []
  }
 ],
 "metadata": {
  "kernelspec": {
   "display_name": "Python 3",
   "language": "python",
   "name": "python3"
  },
  "language_info": {
   "codemirror_mode": {
    "name": "ipython",
    "version": 3
   },
   "file_extension": ".py",
   "mimetype": "text/x-python",
   "name": "python",
   "nbconvert_exporter": "python",
   "pygments_lexer": "ipython3",
   "version": "3.7.3"
  }
 },
 "nbformat": 4,
 "nbformat_minor": 2
}
