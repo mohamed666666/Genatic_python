{
 "cells": [
  {
   "cell_type": "code",
   "execution_count": 3,
   "metadata": {},
   "outputs": [],
   "source": [
    "import numpy as np"
   ]
  },
  {
   "cell_type": "code",
   "execution_count": 4,
   "metadata": {},
   "outputs": [],
   "source": [
    "def init_pop_bin(npop,N_items):\n",
    "    return np.random.randint(0,2,(npop,N_items))"
   ]
  },
  {
   "cell_type": "code",
   "execution_count": 5,
   "metadata": {},
   "outputs": [],
   "source": [
    "def intialize_W_V(maxwight,N_items):# W_V[0] is wights and W_V[1] is values \n",
    "    W_V=np.zeros((2,N_items))\n",
    "    for i in range(len(W_V[0])):\n",
    "        W_V[0][i]=np.random.randint(1,maxwight)\n",
    "        W_V[1][i]=np.random.randint(1,N_items*N_items*2)\n",
    "    return W_V\n",
    "    "
   ]
  },
  {
   "cell_type": "code",
   "execution_count": 6,
   "metadata": {},
   "outputs": [
    {
     "data": {
      "text/plain": [
       "32"
      ]
     },
     "execution_count": 6,
     "metadata": {},
     "output_type": "execute_result"
    }
   ],
   "source": [
    "np.random.randint(10,50)"
   ]
  },
  {
   "cell_type": "code",
   "execution_count": 7,
   "metadata": {},
   "outputs": [],
   "source": [
    "W_V=intialize_W_V(50,10)"
   ]
  },
  {
   "cell_type": "code",
   "execution_count": 8,
   "metadata": {},
   "outputs": [
    {
     "data": {
      "text/plain": [
       "array([[  4.,  27.,  29.,  22.,  32.,  29.,   9.,  33.,  48.,  21.],\n",
       "       [138.,  73., 195., 192.,  27., 186.,  60., 126.,   3., 171.]])"
      ]
     },
     "execution_count": 8,
     "metadata": {},
     "output_type": "execute_result"
    }
   ],
   "source": [
    "W_V"
   ]
  },
  {
   "cell_type": "code",
   "execution_count": 9,
   "metadata": {},
   "outputs": [],
   "source": [
    "s=np.random.randint(0,2,(1,10))"
   ]
  },
  {
   "cell_type": "code",
   "execution_count": 10,
   "metadata": {},
   "outputs": [
    {
     "data": {
      "text/plain": [
       "array([[1, 0, 1, 0, 1, 0, 1, 0, 1, 1]])"
      ]
     },
     "execution_count": 10,
     "metadata": {},
     "output_type": "execute_result"
    }
   ],
   "source": [
    "s"
   ]
  },
  {
   "cell_type": "code",
   "execution_count": 11,
   "metadata": {},
   "outputs": [
    {
     "data": {
      "text/plain": [
       "(10,)"
      ]
     },
     "execution_count": 11,
     "metadata": {},
     "output_type": "execute_result"
    }
   ],
   "source": [
    "W_V[0].shape"
   ]
  },
  {
   "cell_type": "code",
   "execution_count": 12,
   "metadata": {},
   "outputs": [
    {
     "data": {
      "text/plain": [
       "(10,)"
      ]
     },
     "execution_count": 12,
     "metadata": {},
     "output_type": "execute_result"
    }
   ],
   "source": [
    "s[0].shape"
   ]
  },
  {
   "cell_type": "code",
   "execution_count": 13,
   "metadata": {},
   "outputs": [],
   "source": [
    "W_V[0]*=s[0]"
   ]
  },
  {
   "cell_type": "code",
   "execution_count": 14,
   "metadata": {},
   "outputs": [
    {
     "data": {
      "text/plain": [
       "array([[  4.,   0.,  29.,   0.,  32.,   0.,   9.,   0.,  48.,  21.],\n",
       "       [138.,  73., 195., 192.,  27., 186.,  60., 126.,   3., 171.]])"
      ]
     },
     "execution_count": 14,
     "metadata": {},
     "output_type": "execute_result"
    }
   ],
   "source": [
    "W_V"
   ]
  },
  {
   "cell_type": "code",
   "execution_count": 15,
   "metadata": {},
   "outputs": [],
   "source": [
    "def crm_fit(crm,W_V):\n",
    "    W_V_fit=[]\n",
    "    for i in W_V:\n",
    "        W_V_fit.append((crm*i).sum())\n",
    "    return np.array(W_V_fit)"
   ]
  },
  {
   "cell_type": "code",
   "execution_count": 16,
   "metadata": {},
   "outputs": [
    {
     "name": "stdout",
     "output_type": "stream",
     "text": [
      "[ 4.  0. 29.  0. 32.  0.  9.  0. 48. 21.]\n",
      "[138.   0. 195.   0.  27.   0.  60.   0.   3. 171.]\n"
     ]
    }
   ],
   "source": [
    "for i in W_V:\n",
    "    \n",
    "    print(s[0]*i)"
   ]
  },
  {
   "cell_type": "code",
   "execution_count": 17,
   "metadata": {},
   "outputs": [
    {
     "data": {
      "text/plain": [
       "array([1, 0, 1, 0, 1, 0, 1, 0, 1, 1])"
      ]
     },
     "execution_count": 17,
     "metadata": {},
     "output_type": "execute_result"
    }
   ],
   "source": [
    "s[0]"
   ]
  },
  {
   "cell_type": "code",
   "execution_count": 18,
   "metadata": {},
   "outputs": [
    {
     "data": {
      "text/plain": [
       "array([143., 594.])"
      ]
     },
     "execution_count": 18,
     "metadata": {},
     "output_type": "execute_result"
    }
   ],
   "source": [
    "crm_fit(s[0],W_V)"
   ]
  },
  {
   "cell_type": "code",
   "execution_count": 19,
   "metadata": {},
   "outputs": [],
   "source": [
    "def pop_fit(pop,W_V):\n",
    "    pop_fits=[]\n",
    "    for i in range(len(pop)):\n",
    "        pop_fits.append(crm_fit(pop[i],W_V))\n",
    "    return np.array(pop_fits)"
   ]
  },
  {
   "cell_type": "code",
   "execution_count": 20,
   "metadata": {},
   "outputs": [],
   "source": [
    "pop=init_pop_bin(5,7)"
   ]
  },
  {
   "cell_type": "code",
   "execution_count": 21,
   "metadata": {},
   "outputs": [],
   "source": [
    "wights_values=intialize_W_V(maxwight=20,N_items=7)"
   ]
  },
  {
   "cell_type": "code",
   "execution_count": 22,
   "metadata": {},
   "outputs": [
    {
     "data": {
      "text/plain": [
       "array([[14., 16., 17.,  8., 18., 18.,  6.],\n",
       "       [41., 10., 55.,  6., 80., 39., 27.]])"
      ]
     },
     "execution_count": 22,
     "metadata": {},
     "output_type": "execute_result"
    }
   ],
   "source": [
    "wights_values"
   ]
  },
  {
   "cell_type": "code",
   "execution_count": 23,
   "metadata": {},
   "outputs": [
    {
     "data": {
      "text/plain": [
       "array([[1, 1, 0, 1, 0, 0, 1],\n",
       "       [0, 1, 1, 1, 0, 1, 1],\n",
       "       [1, 1, 0, 0, 1, 1, 1],\n",
       "       [0, 0, 0, 0, 0, 1, 1],\n",
       "       [1, 1, 0, 0, 0, 1, 0]])"
      ]
     },
     "execution_count": 23,
     "metadata": {},
     "output_type": "execute_result"
    }
   ],
   "source": [
    "pop"
   ]
  },
  {
   "cell_type": "code",
   "execution_count": 24,
   "metadata": {},
   "outputs": [],
   "source": [
    "fitts=pop_fit(pop,wights_values)"
   ]
  },
  {
   "cell_type": "code",
   "execution_count": 25,
   "metadata": {},
   "outputs": [
    {
     "ename": "NameError",
     "evalue": "name 'fits' is not defined",
     "output_type": "error",
     "traceback": [
      "\u001b[0;31m---------------------------------------------------------------------------\u001b[0m",
      "\u001b[0;31mNameError\u001b[0m                                 Traceback (most recent call last)",
      "\u001b[0;32m<ipython-input-25-30e438a0961c>\u001b[0m in \u001b[0;36m<module>\u001b[0;34m\u001b[0m\n\u001b[0;32m----> 1\u001b[0;31m \u001b[0mfits\u001b[0m\u001b[0;34m[\u001b[0m\u001b[0;34m:\u001b[0m\u001b[0;36m2\u001b[0m\u001b[0;34m]\u001b[0m\u001b[0;34m\u001b[0m\u001b[0;34m\u001b[0m\u001b[0m\n\u001b[0m",
      "\u001b[0;31mNameError\u001b[0m: name 'fits' is not defined"
     ]
    }
   ],
   "source": [
    "fits[:2]"
   ]
  },
  {
   "cell_type": "code",
   "execution_count": 26,
   "metadata": {},
   "outputs": [
    {
     "data": {
      "text/plain": [
       "array([[ 44.,  84.],\n",
       "       [ 65., 137.],\n",
       "       [ 72., 197.],\n",
       "       [ 24.,  66.],\n",
       "       [ 48.,  90.]])"
      ]
     },
     "execution_count": 26,
     "metadata": {},
     "output_type": "execute_result"
    }
   ],
   "source": [
    "fitts"
   ]
  },
  {
   "cell_type": "code",
   "execution_count": 27,
   "metadata": {},
   "outputs": [
    {
     "ename": "NameError",
     "evalue": "name 'fits' is not defined",
     "output_type": "error",
     "traceback": [
      "\u001b[0;31m---------------------------------------------------------------------------\u001b[0m",
      "\u001b[0;31mNameError\u001b[0m                                 Traceback (most recent call last)",
      "\u001b[0;32m<ipython-input-27-be9ec5225896>\u001b[0m in \u001b[0;36m<module>\u001b[0;34m\u001b[0m\n\u001b[0;32m----> 1\u001b[0;31m \u001b[0mnp\u001b[0m\u001b[0;34m.\u001b[0m\u001b[0margmax\u001b[0m\u001b[0;34m(\u001b[0m\u001b[0mfits\u001b[0m\u001b[0;34m[\u001b[0m\u001b[0;34m:\u001b[0m\u001b[0;34m,\u001b[0m\u001b[0;36m1\u001b[0m\u001b[0;34m]\u001b[0m\u001b[0;34m)\u001b[0m\u001b[0;34m\u001b[0m\u001b[0;34m\u001b[0m\u001b[0m\n\u001b[0m",
      "\u001b[0;31mNameError\u001b[0m: name 'fits' is not defined"
     ]
    }
   ],
   "source": [
    "np.argmax(fits[:,1])"
   ]
  },
  {
   "cell_type": "code",
   "execution_count": 28,
   "metadata": {},
   "outputs": [
    {
     "ename": "NameError",
     "evalue": "name 'fits' is not defined",
     "output_type": "error",
     "traceback": [
      "\u001b[0;31m---------------------------------------------------------------------------\u001b[0m",
      "\u001b[0;31mNameError\u001b[0m                                 Traceback (most recent call last)",
      "\u001b[0;32m<ipython-input-28-1336c44a94a6>\u001b[0m in \u001b[0;36m<module>\u001b[0;34m\u001b[0m\n\u001b[0;32m----> 1\u001b[0;31m \u001b[0mfits\u001b[0m\u001b[0;34m[\u001b[0m\u001b[0;36m0\u001b[0m\u001b[0;34m]\u001b[0m\u001b[0;34m[\u001b[0m\u001b[0;36m0\u001b[0m\u001b[0;34m]\u001b[0m\u001b[0;34m\u001b[0m\u001b[0;34m\u001b[0m\u001b[0m\n\u001b[0m",
      "\u001b[0;31mNameError\u001b[0m: name 'fits' is not defined"
     ]
    }
   ],
   "source": [
    "fits[0][0]"
   ]
  },
  {
   "cell_type": "code",
   "execution_count": 29,
   "metadata": {},
   "outputs": [
    {
     "ename": "NameError",
     "evalue": "name 'fits' is not defined",
     "output_type": "error",
     "traceback": [
      "\u001b[0;31m---------------------------------------------------------------------------\u001b[0m",
      "\u001b[0;31mNameError\u001b[0m                                 Traceback (most recent call last)",
      "\u001b[0;32m<ipython-input-29-c0f8fd466aec>\u001b[0m in \u001b[0;36m<module>\u001b[0;34m\u001b[0m\n\u001b[0;32m----> 1\u001b[0;31m \u001b[0mfits\u001b[0m\u001b[0;34m[\u001b[0m\u001b[0;36m0\u001b[0m\u001b[0;34m]\u001b[0m\u001b[0;34m=\u001b[0m\u001b[0;36m5\u001b[0m\u001b[0;34m\u001b[0m\u001b[0;34m\u001b[0m\u001b[0m\n\u001b[0m",
      "\u001b[0;31mNameError\u001b[0m: name 'fits' is not defined"
     ]
    }
   ],
   "source": [
    "fits[0]=5"
   ]
  },
  {
   "cell_type": "code",
   "execution_count": 30,
   "metadata": {},
   "outputs": [
    {
     "ename": "NameError",
     "evalue": "name 'fits' is not defined",
     "output_type": "error",
     "traceback": [
      "\u001b[0;31m---------------------------------------------------------------------------\u001b[0m",
      "\u001b[0;31mNameError\u001b[0m                                 Traceback (most recent call last)",
      "\u001b[0;32m<ipython-input-30-4650921341a0>\u001b[0m in \u001b[0;36m<module>\u001b[0;34m\u001b[0m\n\u001b[0;32m----> 1\u001b[0;31m \u001b[0mfits\u001b[0m\u001b[0;34m\u001b[0m\u001b[0;34m\u001b[0m\u001b[0m\n\u001b[0m",
      "\u001b[0;31mNameError\u001b[0m: name 'fits' is not defined"
     ]
    }
   ],
   "source": [
    "fits"
   ]
  },
  {
   "cell_type": "code",
   "execution_count": 31,
   "metadata": {},
   "outputs": [],
   "source": [
    "def get_best_fit(fits,max_wight):\n",
    "    fits_temp=np.copy(fits)\n",
    "    max_index_val=np.argmax(fits_temp[:,1])\n",
    "    best_fit=0\n",
    "    while fits_temp[max_index_val,0]>max_wight:\n",
    "        fits_temp[max_index_val]=0\n",
    "        max_index_val=np.argmax(fits_temp[:,1])\n",
    "    best_fit=fits[max_index_val]\n",
    "    return best_fit,max_index_val\n",
    "    "
   ]
  },
  {
   "cell_type": "code",
   "execution_count": 32,
   "metadata": {},
   "outputs": [
    {
     "data": {
      "text/plain": [
       "(array([24., 66.]), 3)"
      ]
     },
     "execution_count": 32,
     "metadata": {},
     "output_type": "execute_result"
    }
   ],
   "source": [
    "get_best_fit(fitts,36)"
   ]
  },
  {
   "cell_type": "code",
   "execution_count": 33,
   "metadata": {},
   "outputs": [
    {
     "data": {
      "text/plain": [
       "(array([44., 84.]), 0)"
      ]
     },
     "execution_count": 33,
     "metadata": {},
     "output_type": "execute_result"
    }
   ],
   "source": [
    "get_best_fit(fitts,21)"
   ]
  },
  {
   "cell_type": "code",
   "execution_count": 34,
   "metadata": {},
   "outputs": [
    {
     "data": {
      "text/plain": [
       "array([[ 44.,  84.],\n",
       "       [ 65., 137.],\n",
       "       [ 72., 197.],\n",
       "       [ 24.,  66.],\n",
       "       [ 48.,  90.]])"
      ]
     },
     "execution_count": 34,
     "metadata": {},
     "output_type": "execute_result"
    }
   ],
   "source": [
    "fitts\n"
   ]
  },
  {
   "cell_type": "code",
   "execution_count": null,
   "metadata": {},
   "outputs": [],
   "source": []
  },
  {
   "cell_type": "code",
   "execution_count": null,
   "metadata": {},
   "outputs": [],
   "source": []
  },
  {
   "cell_type": "code",
   "execution_count": 35,
   "metadata": {},
   "outputs": [],
   "source": [
    "def binary_cross_over(tps,pcross):\n",
    "    tow_childrens=np.zeros(tps.shape)\n",
    "    if np.random.rand()<=pcross:\n",
    "        cross_point=np.random.randint(1,tps.shape[1]-1)\n",
    "        tow_childrens[0][0:cross_point]=tps[0][0:cross_point]\n",
    "        tow_childrens[0][cross_point:]=tps[1][cross_point:]\n",
    "        tow_childrens[1][0:cross_point]=tps[1][0:cross_point]\n",
    "        tow_childrens[1][cross_point:]=tps[0][cross_point:]\n",
    "    return tow_childrens"
   ]
  },
  {
   "cell_type": "code",
   "execution_count": 36,
   "metadata": {},
   "outputs": [],
   "source": [
    "def bin_mute(cromosom,pmute):\n",
    "    for i in range(len(cromosom)):\n",
    "        if np.random.rand() <=pmute:\n",
    "            if cromosom[i]==0:\n",
    "                cromosom[i]=1\n",
    "            else:\n",
    "                cromosom[i]=0\n",
    "    return cromosom"
   ]
  },
  {
   "cell_type": "code",
   "execution_count": 37,
   "metadata": {},
   "outputs": [],
   "source": [
    "def tourment_selectian(pop,tour_size,fitness_values,maxwight):\n",
    "    tow_parents=np.zeros((2,pop.shape[1]))\n",
    "    for i in range(len(tow_parents)):\n",
    "        slicer=np.random.randint(0,pop.shape[0]-tour_size)\n",
    "        tour=pop[slicer:slicer+tour_size]\n",
    "        fit=fitness_values[slicer:slicer+tour_size]\n",
    "        \n",
    "        best_fits,index_of_bsf=get_best_fit(fit,maxwight)\n",
    "        tow_parents[i]=tour[index_of_bsf]\n",
    "        \n",
    "    return tow_parents\n",
    "    "
   ]
  },
  {
   "cell_type": "code",
   "execution_count": 38,
   "metadata": {},
   "outputs": [],
   "source": [
    "def runBinGA(n_pop,n_items,ngen,pcross,pmute,tour_size,max_wight):\n",
    "    #intialize population \n",
    "    pop=init_pop_bin(n_pop,n_items)\n",
    "    #intialize wights and values for every item \n",
    "    W_V=intialize_W_V(max_wight,n_items)\n",
    "    #intialize best solution \n",
    "    best_solution=[]\n",
    "    #intialize new pop\n",
    "    ofsprings=np.zeros((pop.shape))\n",
    "    \n",
    "    #loop over generations to create final ofsprings\n",
    "    for i in range(ngen):\n",
    "        fits=pop_fit(pop,W_V)\n",
    "        counter=0\n",
    "        while counter<int(len(ofsprings)/2):\n",
    "            parents=tourment_selectian(pop,tour_size,fits,max_wight)#select two parents\n",
    "            #get childrens from cross over \n",
    "            ch= binary_cross_over(parents,pcross)\n",
    "            # mutation \n",
    "            for j in range(2):\n",
    "                ch[j]=bin_mute(ch[j],pmute)\n",
    "                \n",
    "            ofsprings[counter]=ch[0]\n",
    "            ofsprings[len(ofsprings)-counter-1]=ch[1]\n",
    "            counter+=1\n",
    "            \n",
    "        \n",
    "        ofspring_fit=pop_fit(ofsprings,W_V)\n",
    "        best_fit_sol,index_of_bfs=get_best_fit(ofspring_fit,max_wight)\n",
    "        best_solution.append(ofsprings[index_of_bfs])\n",
    "        pop=ofsprings\n",
    "    \n",
    "  \n",
    "    \n",
    "    \n",
    "    return best_solution                                       \n",
    "                                 "
   ]
  },
  {
   "cell_type": "code",
   "execution_count": 39,
   "metadata": {},
   "outputs": [
    {
     "data": {
      "text/plain": [
       "[array([0., 0., 0., 0., 0., 0., 0., 0., 1., 0.]),\n",
       " array([0., 0., 0., 0., 0., 0., 0., 0., 0., 0.]),\n",
       " array([0., 0., 0., 0., 0., 0., 0., 0., 0., 0.]),\n",
       " array([1., 1., 0., 0., 0., 1., 0., 1., 0., 1.]),\n",
       " array([1., 1., 0., 0., 0., 1., 0., 1., 0., 1.]),\n",
       " array([1., 1., 0., 0., 0., 1., 0., 1., 0., 1.]),\n",
       " array([0., 0., 0., 0., 0., 0., 0., 1., 0., 1.]),\n",
       " array([1., 1., 0., 0., 0., 1., 0., 1., 0., 1.]),\n",
       " array([0., 0., 0., 0., 0., 0., 0., 0., 0., 0.]),\n",
       " array([1., 0., 0., 0., 0., 1., 0., 1., 0., 1.])]"
      ]
     },
     "execution_count": 39,
     "metadata": {},
     "output_type": "execute_result"
    }
   ],
   "source": [
    "runBinGA(n_pop=50,n_items=10,ngen=10,pcross=0.7,pmute=0.01,tour_size=10,max_wight=100)"
   ]
  },
  {
   "cell_type": "code",
   "execution_count": null,
   "metadata": {},
   "outputs": [],
   "source": []
  }
 ],
 "metadata": {
  "kernelspec": {
   "display_name": "Python 3",
   "language": "python",
   "name": "python3"
  },
  "language_info": {
   "codemirror_mode": {
    "name": "ipython",
    "version": 3
   },
   "file_extension": ".py",
   "mimetype": "text/x-python",
   "name": "python",
   "nbconvert_exporter": "python",
   "pygments_lexer": "ipython3",
   "version": "3.7.3"
  }
 },
 "nbformat": 4,
 "nbformat_minor": 2
}
