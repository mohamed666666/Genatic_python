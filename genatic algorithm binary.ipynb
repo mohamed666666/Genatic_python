{
 "cells": [
  {
   "cell_type": "code",
   "execution_count": 1,
   "metadata": {},
   "outputs": [],
   "source": [
    "import numpy as np"
   ]
  },
  {
   "cell_type": "code",
   "execution_count": 2,
   "metadata": {},
   "outputs": [],
   "source": [
    "(Id,name)=\"20170365\",\"mohamed ali \""
   ]
  },
  {
   "cell_type": "code",
   "execution_count": 3,
   "metadata": {},
   "outputs": [],
   "source": [
    "def init_pop_bin(npop,clen):\n",
    "    return np.random.randint(0,2,(npop,clen))"
   ]
  },
  {
   "cell_type": "code",
   "execution_count": 30,
   "metadata": {},
   "outputs": [],
   "source": [
    "def one_max_i(cromosom):\n",
    "    return sum(cromosom)"
   ]
  },
  {
   "cell_type": "code",
   "execution_count": 5,
   "metadata": {},
   "outputs": [],
   "source": [
    "def one_max_pop(pop):\n",
    "    x=np.zeros(pop.shape[0])\n",
    "    for i in range(len(pop)):\n",
    "        x[i]=one_max_i(pop[i])\n",
    "    return x"
   ]
  },
  {
   "cell_type": "code",
   "execution_count": 6,
   "metadata": {},
   "outputs": [],
   "source": [
    "def selection_prop(pop_fitness):\n",
    "    return pop_fitness/np.sum(pop_fitness)"
   ]
  },
  {
   "cell_type": "code",
   "execution_count": 7,
   "metadata": {},
   "outputs": [],
   "source": [
    "def cummprob(sprop):\n",
    "    i=len(sprop)-1\n",
    "    cumm=np.zeros(sprop.shape)\n",
    "    while i >= 0:\n",
    "        cumm[i]=np.sum(sprop[0:i+1])\n",
    "        i-=1\n",
    "    return cumm"
   ]
  },
  {
   "cell_type": "code",
   "execution_count": 8,
   "metadata": {},
   "outputs": [],
   "source": [
    "def R_wheel(cummprop):\n",
    "    r=np.random.rand()\n",
    "    for i in range(len(cummprop)):\n",
    "        if r<=cummprop[i]:\n",
    "            return i"
   ]
  },
  {
   "cell_type": "code",
   "execution_count": 9,
   "metadata": {},
   "outputs": [],
   "source": [
    "def rulet_selection(cummprop,pop):\n",
    "    parents=np.zeros((2,pop.shape[1]))\n",
    "    indexs=[]\n",
    "    for i in range(2):\n",
    "        index=R_wheel(cummprop)\n",
    "        parents[i]=pop[index]\n",
    "        indexs.append(index)\n",
    "    return parents ,indexs"
   ]
  },
  {
   "cell_type": "code",
   "execution_count": 10,
   "metadata": {},
   "outputs": [],
   "source": [
    "def binary_cross_over(tps,pcross):\n",
    "    tow_childrens=np.zeros(tps.shape)\n",
    "    if np.random.rand()<=pcross:\n",
    "        cross_point=np.random.randint(1,tps.shape[1]-1)\n",
    "        tow_childrens[0][0:cross_point]=tps[0][0:cross_point]\n",
    "        tow_childrens[0][cross_point:]=tps[1][cross_point:]\n",
    "        tow_childrens[1][0:cross_point]=tps[1][0:cross_point]\n",
    "        tow_childrens[1][cross_point:]=tps[0][cross_point:]\n",
    "    return tow_childrens\n",
    "   \n",
    "    "
   ]
  },
  {
   "cell_type": "code",
   "execution_count": 11,
   "metadata": {},
   "outputs": [],
   "source": [
    "def bin_mute(cromosom,pmute):\n",
    "    for i in range(len(cromosom)):\n",
    "        if np.random.rand() <=pmute:\n",
    "            if cromosom[i]==0:\n",
    "                cromosom[i]=1\n",
    "            else:\n",
    "                cromosom[i]=0\n",
    "    return cromosom"
   ]
  },
  {
   "cell_type": "code",
   "execution_count": 21,
   "metadata": {},
   "outputs": [],
   "source": [
    "def runBinGA(npop,clen,ngen,pcross,pmute):\n",
    "    #intialize population \n",
    "    pop=init_pop_bin(npop,clen)\n",
    "    highstfit=[]\n",
    "    finpop=np.zeros((ngen*2,clen))\n",
    "    for i in range(ngen):\n",
    "        pop_fitness= one_max_pop(pop)\n",
    "        sprop= selection_prop(pop_fitness)\n",
    "        cmmprop= cummprob(sprop)\n",
    "        tow_parents , indexs_in_pop= rulet_selection(cmmprop,pop)\n",
    "        new_cheldrins=binary_cross_over(tow_parents,pcross)\n",
    "        for j in range(len(new_cheldrins)):\n",
    "            new_cheldrins[j]= bin_mute(new_cheldrins[j],pmute)\n",
    "        finpop[i]=new_cheldrins[0]\n",
    "        finpop[ngen*2-i-1]=new_cheldrins[1]\n",
    "        fin_pop_fitness= one_max_pop(finpop)\n",
    "        highstfit.append(np.max(fin_pop_fitness))\n",
    "    return finpop,highstfit\n",
    "            \n"
   ]
  },
  {
   "cell_type": "code",
   "execution_count": 25,
   "metadata": {},
   "outputs": [],
   "source": [
    "finpop,besthist=runBinGA(30,10,50,0.7,0.01)"
   ]
  },
  {
   "cell_type": "code",
   "execution_count": 29,
   "metadata": {},
   "outputs": [
    {
     "data": {
      "text/plain": [
       "(100, 10)"
      ]
     },
     "execution_count": 29,
     "metadata": {},
     "output_type": "execute_result"
    }
   ],
   "source": [
    "finpop.shape"
   ]
  },
  {
   "cell_type": "code",
   "execution_count": 16,
   "metadata": {},
   "outputs": [],
   "source": [
    "import matplotlib.pyplot as plt"
   ]
  },
  {
   "cell_type": "code",
   "execution_count": 27,
   "metadata": {},
   "outputs": [
    {
     "data": {
      "image/png": "[encoded data removed]",
      "text/plain": [
       "<Figure size 432x288 with 1 Axes>"
      ]
     },
     "metadata": {
      "needs_background": "light"
     },
     "output_type": "display_data"
    }
   ],
   "source": [
    "plt.plot(besthist)\n",
    "plt.ylabel('Fitness value')\n",
    "plt.xlabel('Number of iterations')\n",
    "plt.show()"
   ]
  },
  {
   "cell_type": "code",
   "execution_count": null,
   "metadata": {},
   "outputs": [],
   "source": []
  }
 ],
 "metadata": {
  "kernelspec": {
   "display_name": "Python 3",
   "language": "python",
   "name": "python3"
  },
  "language_info": {
   "codemirror_mode": {
    "name": "ipython",
    "version": 3
   },
   "file_extension": ".py",
   "mimetype": "text/x-python",
   "name": "python",
   "nbconvert_exporter": "python",
   "pygments_lexer": "ipython3",
   "version": "3.7.3"
  }
 },
 "nbformat": 4,
 "nbformat_minor": 2
}
