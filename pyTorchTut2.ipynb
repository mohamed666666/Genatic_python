{
  "nbformat": 4,
  "nbformat_minor": 0,
  "metadata": {
    "colab": {
      "provenance": [],
      "authorship_tag": "ABX9TyNLV5GlOhJQJYHQ88J3bgMF",
      "include_colab_link": true
    },
    "kernelspec": {
      "name": "python3",
      "display_name": "Python 3"
    },
    "language_info": {
      "name": "python"
    }
  },
  "cells": [
    {
      "cell_type": "markdown",
      "metadata": {
        "id": "view-in-github",
        "colab_type": "text"
      },
      "source": [
        "<a href=\"https://colab.research.google.com/github/mohamed666666/Genatic_python/blob/master/pyTorchTut2.ipynb\" target=\"_parent\"><img src=\"https://colab.research.google.com/assets/colab-badge.svg\" alt=\"Open In Colab\"/></a>"
      ]
    },
    {
      "cell_type": "code",
      "execution_count": 1,
      "metadata": {
        "id": "90vm6lp-0kRT"
      },
      "outputs": [],
      "source": [
        "import numpy as np"
      ]
    },
    {
      "cell_type": "code",
      "source": [
        "import torch"
      ],
      "metadata": {
        "id": "rJxLAdkw0q9V"
      },
      "execution_count": 2,
      "outputs": []
    },
    {
      "cell_type": "code",
      "source": [
        "torch.tensor([1,2,3])"
      ],
      "metadata": {
        "colab": {
          "base_uri": "https://localhost:8080/"
        },
        "id": "tCfgvRzr0scq",
        "outputId": "99479f4a-4a65-41f9-9974-51da8fc18d59"
      },
      "execution_count": 3,
      "outputs": [
        {
          "output_type": "execute_result",
          "data": {
            "text/plain": [
              "tensor([1, 2, 3])"
            ]
          },
          "metadata": {},
          "execution_count": 3
        }
      ]
    },
    {
      "cell_type": "code",
      "source": [
        "r=torch.randn(3,3)"
      ],
      "metadata": {
        "id": "4qAEhmRL0vpk"
      },
      "execution_count": 4,
      "outputs": []
    },
    {
      "cell_type": "code",
      "source": [],
      "metadata": {
        "id": "7z4BBKYF2Wsl"
      },
      "execution_count": 4,
      "outputs": []
    },
    {
      "cell_type": "code",
      "source": [
        "r"
      ],
      "metadata": {
        "colab": {
          "base_uri": "https://localhost:8080/"
        },
        "id": "XXEryMgA00Zg",
        "outputId": "a49d0f16-cc3c-4469-8b41-cddddd689503"
      },
      "execution_count": 5,
      "outputs": [
        {
          "output_type": "execute_result",
          "data": {
            "text/plain": [
              "tensor([[-0.0735,  0.3379, -0.6813],\n",
              "        [ 0.7854, -2.1739, -0.6016],\n",
              "        [-2.1638,  1.5949, -0.2736]])"
            ]
          },
          "metadata": {},
          "execution_count": 5
        }
      ]
    },
    {
      "cell_type": "code",
      "source": [
        "r.reshape(9,1)"
      ],
      "metadata": {
        "colab": {
          "base_uri": "https://localhost:8080/"
        },
        "id": "mqVMm3ix1Vg-",
        "outputId": "18817849-37a2-42ab-cda1-a6a2fffe5be3"
      },
      "execution_count": 6,
      "outputs": [
        {
          "output_type": "execute_result",
          "data": {
            "text/plain": [
              "tensor([[-0.0735],\n",
              "        [ 0.3379],\n",
              "        [-0.6813],\n",
              "        [ 0.7854],\n",
              "        [-2.1739],\n",
              "        [-0.6016],\n",
              "        [-2.1638],\n",
              "        [ 1.5949],\n",
              "        [-0.2736]])"
            ]
          },
          "metadata": {},
          "execution_count": 6
        }
      ]
    },
    {
      "cell_type": "code",
      "source": [
        "t=torch.arange(10)"
      ],
      "metadata": {
        "id": "143_mjfy2LX7"
      },
      "execution_count": 7,
      "outputs": []
    },
    {
      "cell_type": "code",
      "source": [
        "t"
      ],
      "metadata": {
        "colab": {
          "base_uri": "https://localhost:8080/"
        },
        "id": "f3IGS4w92b4e",
        "outputId": "5482f7dd-5a31-4a05-c0bb-eedb7e9b5a7d"
      },
      "execution_count": 8,
      "outputs": [
        {
          "output_type": "execute_result",
          "data": {
            "text/plain": [
              "tensor([0, 1, 2, 3, 4, 5, 6, 7, 8, 9])"
            ]
          },
          "metadata": {},
          "execution_count": 8
        }
      ]
    },
    {
      "cell_type": "code",
      "source": [
        "t2=t.reshape(5,-1)\n",
        "t2"
      ],
      "metadata": {
        "colab": {
          "base_uri": "https://localhost:8080/"
        },
        "id": "neMZBTQd2cj4",
        "outputId": "592eccf8-8fdc-4cb8-a4c9-685d44eb5c54"
      },
      "execution_count": 9,
      "outputs": [
        {
          "output_type": "execute_result",
          "data": {
            "text/plain": [
              "tensor([[0, 1],\n",
              "        [2, 3],\n",
              "        [4, 5],\n",
              "        [6, 7],\n",
              "        [8, 9]])"
            ]
          },
          "metadata": {},
          "execution_count": 9
        }
      ]
    },
    {
      "cell_type": "code",
      "source": [
        "t2[1:3,0]"
      ],
      "metadata": {
        "colab": {
          "base_uri": "https://localhost:8080/"
        },
        "id": "fgsjUHu02fLk",
        "outputId": "2d5061e6-74f2-4c97-c434-3584c351709d"
      },
      "execution_count": 10,
      "outputs": [
        {
          "output_type": "execute_result",
          "data": {
            "text/plain": [
              "tensor([2, 4])"
            ]
          },
          "metadata": {},
          "execution_count": 10
        }
      ]
    },
    {
      "cell_type": "code",
      "source": [
        "t"
      ],
      "metadata": {
        "id": "A6lvhEIG4Ea8",
        "colab": {
          "base_uri": "https://localhost:8080/"
        },
        "outputId": "d2705372-a06c-4272-c53e-14debfbe4939"
      },
      "execution_count": 11,
      "outputs": [
        {
          "output_type": "execute_result",
          "data": {
            "text/plain": [
              "tensor([0, 1, 2, 3, 4, 5, 6, 7, 8, 9])"
            ]
          },
          "metadata": {},
          "execution_count": 11
        }
      ]
    },
    {
      "cell_type": "code",
      "source": [
        "t2"
      ],
      "metadata": {
        "colab": {
          "base_uri": "https://localhost:8080/"
        },
        "id": "qv63VVmXfteI",
        "outputId": "2ff9f8bd-d35d-4e94-864b-e80e789511a1"
      },
      "execution_count": 12,
      "outputs": [
        {
          "output_type": "execute_result",
          "data": {
            "text/plain": [
              "tensor([[0, 1],\n",
              "        [2, 3],\n",
              "        [4, 5],\n",
              "        [6, 7],\n",
              "        [8, 9]])"
            ]
          },
          "metadata": {},
          "execution_count": 12
        }
      ]
    },
    {
      "cell_type": "code",
      "source": [
        "t3=torch.rand(5,2)"
      ],
      "metadata": {
        "id": "HRFlq2bufu1A"
      },
      "execution_count": 20,
      "outputs": []
    },
    {
      "cell_type": "code",
      "source": [
        "t3"
      ],
      "metadata": {
        "colab": {
          "base_uri": "https://localhost:8080/"
        },
        "id": "l-8gPG4Zf1Kr",
        "outputId": "aeedcfc4-f5d5-42ca-ce09-33c8b200f3bd"
      },
      "execution_count": 21,
      "outputs": [
        {
          "output_type": "execute_result",
          "data": {
            "text/plain": [
              "tensor([[0.5924, 0.8435],\n",
              "        [0.0089, 0.0810],\n",
              "        [0.1056, 0.8015],\n",
              "        [0.1713, 0.3439],\n",
              "        [0.2361, 0.5620]])"
            ]
          },
          "metadata": {},
          "execution_count": 21
        }
      ]
    },
    {
      "cell_type": "code",
      "source": [
        "t3+t2"
      ],
      "metadata": {
        "colab": {
          "base_uri": "https://localhost:8080/"
        },
        "id": "kITxOc-qf1vL",
        "outputId": "a2086d1c-faeb-4041-be7c-2d12f558b829"
      },
      "execution_count": 22,
      "outputs": [
        {
          "output_type": "execute_result",
          "data": {
            "text/plain": [
              "tensor([[0.5924, 1.8435],\n",
              "        [2.0089, 3.0810],\n",
              "        [4.1056, 5.8015],\n",
              "        [6.1713, 7.3439],\n",
              "        [8.2361, 9.5620]])"
            ]
          },
          "metadata": {},
          "execution_count": 22
        }
      ]
    },
    {
      "cell_type": "code",
      "source": [
        "t3*t2"
      ],
      "metadata": {
        "colab": {
          "base_uri": "https://localhost:8080/"
        },
        "id": "1ehMb2j_gFeH",
        "outputId": "9788ed4c-f63b-46bf-8bae-edd6a0a43e0c"
      },
      "execution_count": 23,
      "outputs": [
        {
          "output_type": "execute_result",
          "data": {
            "text/plain": [
              "tensor([[0.0000, 0.8435],\n",
              "        [0.0179, 0.2429],\n",
              "        [0.4223, 4.0077],\n",
              "        [1.0275, 2.4076],\n",
              "        [1.8892, 5.0584]])"
            ]
          },
          "metadata": {},
          "execution_count": 23
        }
      ]
    },
    {
      "cell_type": "code",
      "source": [
        "t3.shape\n"
      ],
      "metadata": {
        "colab": {
          "base_uri": "https://localhost:8080/"
        },
        "id": "bmJUbGAlgKgj",
        "outputId": "6699f706-5d1a-4509-d97c-614d1fc7c02c"
      },
      "execution_count": 28,
      "outputs": [
        {
          "output_type": "execute_result",
          "data": {
            "text/plain": [
              "torch.Size([5, 2])"
            ]
          },
          "metadata": {},
          "execution_count": 28
        }
      ]
    },
    {
      "cell_type": "code",
      "source": [
        "t2.shape"
      ],
      "metadata": {
        "colab": {
          "base_uri": "https://localhost:8080/"
        },
        "id": "JCW50EP2gN0T",
        "outputId": "888d62b0-fe5b-4458-dec2-6391dd89d3f8"
      },
      "execution_count": 29,
      "outputs": [
        {
          "output_type": "execute_result",
          "data": {
            "text/plain": [
              "torch.Size([5, 2])"
            ]
          },
          "metadata": {},
          "execution_count": 29
        }
      ]
    },
    {
      "cell_type": "code",
      "source": [
        "t2.T.shape"
      ],
      "metadata": {
        "colab": {
          "base_uri": "https://localhost:8080/"
        },
        "id": "NdlVfTMjgdBK",
        "outputId": "3c35a517-bcb0-4e5f-b200-4c92db07fd04"
      },
      "execution_count": 30,
      "outputs": [
        {
          "output_type": "execute_result",
          "data": {
            "text/plain": [
              "torch.Size([2, 5])"
            ]
          },
          "metadata": {},
          "execution_count": 30
        }
      ]
    },
    {
      "cell_type": "code",
      "source": [
        "t2.T@t3"
      ],
      "metadata": {
        "colab": {
          "base_uri": "https://localhost:8080/",
          "height": 144
        },
        "id": "whXS0GjHghb8",
        "outputId": "c6bc1b76-dcc6-4703-ff76-e165aaacf594"
      },
      "execution_count": 31,
      "outputs": [
        {
          "output_type": "error",
          "ename": "RuntimeError",
          "evalue": "expected m1 and m2 to have the same dtype, but got: long int != float",
          "traceback": [
            "\u001b[0;31m---------------------------------------------------------------------------\u001b[0m",
            "\u001b[0;31mRuntimeError\u001b[0m                              Traceback (most recent call last)",
            "\u001b[0;32m<ipython-input-31-93ebcbc41d03>\u001b[0m in \u001b[0;36m<cell line: 1>\u001b[0;34m()\u001b[0m\n\u001b[0;32m----> 1\u001b[0;31m \u001b[0mt2\u001b[0m\u001b[0;34m.\u001b[0m\u001b[0mT\u001b[0m\u001b[0;34m@\u001b[0m\u001b[0mt3\u001b[0m\u001b[0;34m\u001b[0m\u001b[0;34m\u001b[0m\u001b[0m\n\u001b[0m",
            "\u001b[0;31mRuntimeError\u001b[0m: expected m1 and m2 to have the same dtype, but got: long int != float"
          ]
        }
      ]
    },
    {
      "cell_type": "code",
      "source": [
        "t2.dtype"
      ],
      "metadata": {
        "colab": {
          "base_uri": "https://localhost:8080/"
        },
        "id": "5tnGpIKxglGx",
        "outputId": "70b68fa5-eaf8-461c-f137-c51a8edcff3c"
      },
      "execution_count": 32,
      "outputs": [
        {
          "output_type": "execute_result",
          "data": {
            "text/plain": [
              "torch.int64"
            ]
          },
          "metadata": {},
          "execution_count": 32
        }
      ]
    },
    {
      "cell_type": "code",
      "source": [
        "t3.dtype\n"
      ],
      "metadata": {
        "colab": {
          "base_uri": "https://localhost:8080/"
        },
        "id": "87gPR3vxgqsl",
        "outputId": "47a3a63c-ac30-4628-d899-8378de330eb9"
      },
      "execution_count": 33,
      "outputs": [
        {
          "output_type": "execute_result",
          "data": {
            "text/plain": [
              "torch.float32"
            ]
          },
          "metadata": {},
          "execution_count": 33
        }
      ]
    },
    {
      "cell_type": "code",
      "source": [
        "import torch.nn as nn\n",
        "import torch.nn.functional as F"
      ],
      "metadata": {
        "id": "ICFKvx-SgspE"
      },
      "execution_count": 36,
      "outputs": []
    },
    {
      "cell_type": "markdown",
      "source": [
        "# Build NN to predict iris flower\n",
        "\n",
        "\n",
        "*  3 layers model\n",
        "*  with 4 input and 3 output\n",
        "\n"
      ],
      "metadata": {
        "id": "jZJyl5PylBl4"
      }
    },
    {
      "cell_type": "code",
      "source": [
        "class Model(nn.Module):\n",
        "    def __init__(self, in_size=4,h2=16,h3=32,out_size=3) -> None:\n",
        "        super().__init__()\n",
        "        self.fc1=nn.Linear(in_size,h2)\n",
        "        self.fc2=nn.Linear(h2,h3)\n",
        "        self.fc3=nn.Linear(h3,out_size)\n",
        "\n",
        "    def forward(self,x):\n",
        "        x=F.relu(self.fc1(x))\n",
        "        x=F.relu(self.fc2(x))\n",
        "        x=self.fc3(x)\n",
        "        return x"
      ],
      "metadata": {
        "id": "l50ZSpczkGwr"
      },
      "execution_count": 37,
      "outputs": []
    },
    {
      "cell_type": "code",
      "source": [
        "model=Model()"
      ],
      "metadata": {
        "id": "6AKolFIHnSfM"
      },
      "execution_count": 45,
      "outputs": []
    },
    {
      "cell_type": "code",
      "source": [
        "model.fc1"
      ],
      "metadata": {
        "colab": {
          "base_uri": "https://localhost:8080/"
        },
        "id": "k1DgOC47nWil",
        "outputId": "900cc655-a685-4fec-c6e3-57df8d7f264f"
      },
      "execution_count": 46,
      "outputs": [
        {
          "output_type": "execute_result",
          "data": {
            "text/plain": [
              "Linear(in_features=4, out_features=16, bias=True)"
            ]
          },
          "metadata": {},
          "execution_count": 46
        }
      ]
    },
    {
      "cell_type": "code",
      "source": [
        "model.fc3.weight"
      ],
      "metadata": {
        "colab": {
          "base_uri": "https://localhost:8080/"
        },
        "id": "21N29MZ4naCY",
        "outputId": "adf10007-f01b-4acb-d0cc-9de47dc88e44"
      },
      "execution_count": 49,
      "outputs": [
        {
          "output_type": "execute_result",
          "data": {
            "text/plain": [
              "Parameter containing:\n",
              "tensor([[-0.0025,  0.0555, -0.0568,  0.1437,  0.0089, -0.1309, -0.1351,  0.0522,\n",
              "          0.0100,  0.0938,  0.0640,  0.0494, -0.0388, -0.0005,  0.0742, -0.0286,\n",
              "          0.0122, -0.1376, -0.0242,  0.1645,  0.0477, -0.0028,  0.0214, -0.1112,\n",
              "          0.0255,  0.0035,  0.1588, -0.0219,  0.0401, -0.0427, -0.0942,  0.0647],\n",
              "        [ 0.1712,  0.1701,  0.1156, -0.0480, -0.1129, -0.1471,  0.0350, -0.1659,\n",
              "          0.0482,  0.1217, -0.1399,  0.0809, -0.1668,  0.0047,  0.1461, -0.0292,\n",
              "          0.0824,  0.0094,  0.1290, -0.1129, -0.1448,  0.1258,  0.0679,  0.1338,\n",
              "         -0.0318, -0.0970, -0.0337, -0.0903, -0.0972,  0.0233,  0.1428,  0.0910],\n",
              "        [-0.0220,  0.1047,  0.0735,  0.1393,  0.1482,  0.1455, -0.1132, -0.0703,\n",
              "          0.1295,  0.1011, -0.1059, -0.0659, -0.1391, -0.0976,  0.1127,  0.0931,\n",
              "         -0.1410, -0.1519, -0.0433,  0.0156,  0.0785, -0.0629,  0.1115, -0.0488,\n",
              "          0.0815, -0.1254,  0.0919,  0.1102,  0.0567,  0.1248, -0.1555,  0.1575]],\n",
              "       requires_grad=True)"
            ]
          },
          "metadata": {},
          "execution_count": 49
        }
      ]
    },
    {
      "cell_type": "code",
      "source": [
        "from sklearn import datasets\n",
        "import pandas as pd\n",
        "iris = datasets.load_iris()"
      ],
      "metadata": {
        "id": "Yidc_kzrnrXl"
      },
      "execution_count": 51,
      "outputs": []
    },
    {
      "cell_type": "code",
      "source": [
        "iris['data'].shape"
      ],
      "metadata": {
        "colab": {
          "base_uri": "https://localhost:8080/"
        },
        "id": "pKORM63To4tw",
        "outputId": "20ff901e-a118-4342-b47d-177203fc3162"
      },
      "execution_count": 54,
      "outputs": [
        {
          "output_type": "execute_result",
          "data": {
            "text/plain": [
              "(150, 4)"
            ]
          },
          "metadata": {},
          "execution_count": 54
        }
      ]
    },
    {
      "cell_type": "code",
      "source": [
        "iris['target'].shape"
      ],
      "metadata": {
        "colab": {
          "base_uri": "https://localhost:8080/"
        },
        "id": "b2lDWaONo-bt",
        "outputId": "6c132143-5757-45b6-c525-56866ddbe46b"
      },
      "execution_count": 55,
      "outputs": [
        {
          "output_type": "execute_result",
          "data": {
            "text/plain": [
              "(150,)"
            ]
          },
          "metadata": {},
          "execution_count": 55
        }
      ]
    },
    {
      "cell_type": "code",
      "source": [
        "iris['feature_names']"
      ],
      "metadata": {
        "colab": {
          "base_uri": "https://localhost:8080/"
        },
        "id": "KRWm7reOpjND",
        "outputId": "e9e696a9-082e-42a3-a639-f0d887615492"
      },
      "execution_count": 56,
      "outputs": [
        {
          "output_type": "execute_result",
          "data": {
            "text/plain": [
              "['sepal length (cm)',\n",
              " 'sepal width (cm)',\n",
              " 'petal length (cm)',\n",
              " 'petal width (cm)']"
            ]
          },
          "metadata": {},
          "execution_count": 56
        }
      ]
    },
    {
      "cell_type": "code",
      "source": [
        "iris['target_names']"
      ],
      "metadata": {
        "colab": {
          "base_uri": "https://localhost:8080/"
        },
        "id": "xYxBesNmptZ4",
        "outputId": "eab35135-15fd-4603-adc3-01e74ba8601e"
      },
      "execution_count": 57,
      "outputs": [
        {
          "output_type": "execute_result",
          "data": {
            "text/plain": [
              "array(['setosa', 'versicolor', 'virginica'], dtype='<U10')"
            ]
          },
          "metadata": {},
          "execution_count": 57
        }
      ]
    },
    {
      "cell_type": "code",
      "source": [
        "iris['target']"
      ],
      "metadata": {
        "colab": {
          "base_uri": "https://localhost:8080/"
        },
        "id": "66U6MZhbpwSZ",
        "outputId": "700dbf26-41bd-49c2-a932-9bc68b4a7b8d"
      },
      "execution_count": 58,
      "outputs": [
        {
          "output_type": "execute_result",
          "data": {
            "text/plain": [
              "array([0, 0, 0, 0, 0, 0, 0, 0, 0, 0, 0, 0, 0, 0, 0, 0, 0, 0, 0, 0, 0, 0,\n",
              "       0, 0, 0, 0, 0, 0, 0, 0, 0, 0, 0, 0, 0, 0, 0, 0, 0, 0, 0, 0, 0, 0,\n",
              "       0, 0, 0, 0, 0, 0, 1, 1, 1, 1, 1, 1, 1, 1, 1, 1, 1, 1, 1, 1, 1, 1,\n",
              "       1, 1, 1, 1, 1, 1, 1, 1, 1, 1, 1, 1, 1, 1, 1, 1, 1, 1, 1, 1, 1, 1,\n",
              "       1, 1, 1, 1, 1, 1, 1, 1, 1, 1, 1, 1, 2, 2, 2, 2, 2, 2, 2, 2, 2, 2,\n",
              "       2, 2, 2, 2, 2, 2, 2, 2, 2, 2, 2, 2, 2, 2, 2, 2, 2, 2, 2, 2, 2, 2,\n",
              "       2, 2, 2, 2, 2, 2, 2, 2, 2, 2, 2, 2, 2, 2, 2, 2, 2, 2])"
            ]
          },
          "metadata": {},
          "execution_count": 58
        }
      ]
    },
    {
      "cell_type": "code",
      "source": [
        "train_x=iris['data'][0:120]"
      ],
      "metadata": {
        "id": "HpNEraHMp0xN"
      },
      "execution_count": 62,
      "outputs": []
    },
    {
      "cell_type": "code",
      "source": [
        "train_x.shape"
      ],
      "metadata": {
        "colab": {
          "base_uri": "https://localhost:8080/"
        },
        "id": "_ozIJCs2qBE4",
        "outputId": "b3425b91-c9bf-42fe-bbb1-eb09a2dafc4d"
      },
      "execution_count": 63,
      "outputs": [
        {
          "output_type": "execute_result",
          "data": {
            "text/plain": [
              "(120, 4)"
            ]
          },
          "metadata": {},
          "execution_count": 63
        }
      ]
    },
    {
      "cell_type": "code",
      "source": [
        "test_x=iris['data'][120:]"
      ],
      "metadata": {
        "id": "OQWS-Rq8qCku"
      },
      "execution_count": 64,
      "outputs": []
    },
    {
      "cell_type": "code",
      "source": [
        "train_y=iris['target'][0:120]"
      ],
      "metadata": {
        "id": "gM05gBWaqEcw"
      },
      "execution_count": 65,
      "outputs": []
    },
    {
      "cell_type": "code",
      "source": [
        "test_y=iris['target'][120:]"
      ],
      "metadata": {
        "id": "aC2rMIYFqNA1"
      },
      "execution_count": 66,
      "outputs": []
    },
    {
      "cell_type": "code",
      "source": [
        "train_x=torch.tensor(train_x,dtype=torch.float32)"
      ],
      "metadata": {
        "id": "JDOiBYvJqQq2"
      },
      "execution_count": 68,
      "outputs": []
    },
    {
      "cell_type": "code",
      "source": [
        "train_y=torch.tensor(train_y,dtype=torch.long)"
      ],
      "metadata": {
        "colab": {
          "base_uri": "https://localhost:8080/"
        },
        "id": "qd1atyVTqZi2",
        "outputId": "3afd704e-11e8-4547-a6fa-478ef9536c42"
      },
      "execution_count": 74,
      "outputs": [
        {
          "output_type": "stream",
          "name": "stderr",
          "text": [
            "<ipython-input-74-23753e7376b3>:1: UserWarning: To copy construct from a tensor, it is recommended to use sourceTensor.clone().detach() or sourceTensor.clone().detach().requires_grad_(True), rather than torch.tensor(sourceTensor).\n",
            "  train_y=torch.tensor(train_y,dtype=torch.long)\n"
          ]
        }
      ]
    },
    {
      "cell_type": "code",
      "source": [
        "test_x=torch.tensor(test_x,dtype=torch.float32)"
      ],
      "metadata": {
        "colab": {
          "base_uri": "https://localhost:8080/"
        },
        "id": "PCwCFLrvrwio",
        "outputId": "5ae8a14c-3c43-4034-b251-261cb98dc447"
      },
      "execution_count": 75,
      "outputs": [
        {
          "output_type": "stream",
          "name": "stderr",
          "text": [
            "<ipython-input-75-347d4881a58d>:1: UserWarning: To copy construct from a tensor, it is recommended to use sourceTensor.clone().detach() or sourceTensor.clone().detach().requires_grad_(True), rather than torch.tensor(sourceTensor).\n",
            "  test_x=torch.tensor(test_x,dtype=torch.float32)\n"
          ]
        }
      ]
    },
    {
      "cell_type": "code",
      "source": [
        "test_y=torch.tensor(test_y,dtype=torch.long)"
      ],
      "metadata": {
        "colab": {
          "base_uri": "https://localhost:8080/"
        },
        "id": "cP4t0nZMr-6u",
        "outputId": "bb58876d-36d4-4aca-a35e-23498468e3e3"
      },
      "execution_count": 76,
      "outputs": [
        {
          "output_type": "stream",
          "name": "stderr",
          "text": [
            "<ipython-input-76-2b232b98f187>:1: UserWarning: To copy construct from a tensor, it is recommended to use sourceTensor.clone().detach() or sourceTensor.clone().detach().requires_grad_(True), rather than torch.tensor(sourceTensor).\n",
            "  test_y=torch.tensor(test_y,dtype=torch.long)\n"
          ]
        }
      ]
    },
    {
      "cell_type": "markdown",
      "source": [
        "# Loss function and Optemizer"
      ],
      "metadata": {
        "id": "2FQtKXkusRar"
      }
    },
    {
      "cell_type": "code",
      "source": [
        "los=nn.CrossEntropyLoss()\n",
        "opt=torch.optim.Adam(model.parameters(),lr=0.01)"
      ],
      "metadata": {
        "id": "-rdeMdv5sBqS"
      },
      "execution_count": 78,
      "outputs": []
    },
    {
      "cell_type": "markdown",
      "source": [
        "# Model Training"
      ],
      "metadata": {
        "id": "upzSsFEkteSJ"
      }
    },
    {
      "cell_type": "code",
      "source": [
        "epochs=100\n",
        "losses=[]\n",
        "for i in range(epochs):\n",
        "    y_pred=model(train_x)\n",
        "    loss=los(y_pred,train_y)\n",
        "    losses.append(loss.item())\n",
        "    if i%10==0:\n",
        "        print(f'epoch {i} loss {loss.item()}')\n",
        "\n",
        "    opt.zero_grad()\n",
        "    loss.backward()\n",
        "    opt.step()"
      ],
      "metadata": {
        "colab": {
          "base_uri": "https://localhost:8080/"
        },
        "id": "BxJSHHhxsb0R",
        "outputId": "391d5441-c10d-4bc6-fc30-f31b4dcf7b88"
      },
      "execution_count": 79,
      "outputs": [
        {
          "output_type": "stream",
          "name": "stdout",
          "text": [
            "epoch 0 loss 0.5493472814559937\n",
            "epoch 10 loss 0.25621259212493896\n",
            "epoch 20 loss 0.11296512931585312\n",
            "epoch 30 loss 0.051922980695962906\n",
            "epoch 40 loss 0.03560255467891693\n",
            "epoch 50 loss 0.03010384552180767\n",
            "epoch 60 loss 0.026898689568042755\n",
            "epoch 70 loss 0.024449575692415237\n",
            "epoch 80 loss 0.022466043010354042\n",
            "epoch 90 loss 0.02081025391817093\n"
          ]
        }
      ]
    },
    {
      "cell_type": "code",
      "source": [
        "import matplotlib.pyplot as plt"
      ],
      "metadata": {
        "id": "umypZaiDubcJ"
      },
      "execution_count": 80,
      "outputs": []
    },
    {
      "cell_type": "code",
      "source": [
        "plt.plot(range(epochs),losses)"
      ],
      "metadata": {
        "colab": {
          "base_uri": "https://localhost:8080/",
          "height": 448
        },
        "id": "8XMbOt1mvAAt",
        "outputId": "2601745d-5e60-49fc-ee40-c17653ced45e"
      },
      "execution_count": 81,
      "outputs": [
        {
          "output_type": "execute_result",
          "data": {
            "text/plain": [
              "[<matplotlib.lines.Line2D at 0x7a3434d29f30>]"
            ]
          },
          "metadata": {},
          "execution_count": 81
        },
        {
          "output_type": "display_data",
          "data": {
            "text/plain": [
              "<Figure size 640x480 with 1 Axes>"
            ],
            "image/png": "[encoded data removed]"
          },
          "metadata": {}
        }
      ]
    },
    {
      "cell_type": "code",
      "source": [],
      "metadata": {
        "id": "ZNMNgIfVvBSA"
      },
      "execution_count": null,
      "outputs": []
    }
  ]
}